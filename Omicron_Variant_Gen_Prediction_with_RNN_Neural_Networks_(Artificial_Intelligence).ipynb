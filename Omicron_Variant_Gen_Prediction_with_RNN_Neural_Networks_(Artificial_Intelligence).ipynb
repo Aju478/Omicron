{
 "cells": [
  {
   "cell_type": "markdown",
   "metadata": {
    "id": "6wWnmlAzl24Q"
   },
   "source": [
    "# OMICRON VARIANT RNN & ML GEN PREDICTION (2 Separate Software) - Artificial Intelligence in Health\n",
    "\n",
    "---\n",
    "\n",
    "I prepared an artificial intelligence project that tests the Omicron Variant according to various protein values ​​according to 2 different software, RNN Deep Learning and Machine Learning software. Although I finished the project on January 15, I felt the need to share it after a long time. I also open source an explanatory PDF presentation explaining the project. RNN accuracy percentage 82.5%, RNN precision percentage 97.08%; The Machine Learning accuracy percentage is 100.00% and the Machine Learning accuracy percentage is 99.5%.\n",
    "\n",
    "First I edited and cleared the data. Later, I adapted it according to two different algorithms (both of which are original algorithms) that I created. Then I built the pipeline and created the model. Finally, I added the predictions and confusion matrix scores to the end of the list. This is an artificial intelligence project in healthcare. I am happy to share this innovative project with you!\n",
    "\n",
    "Finally, Artificial intelligence for a healthy tomorrow!\n",
    "Thank you!\n",
    "\n",
    "Emirhan BULUT\n",
    "\n",
    "Sr. Artificial Intelligence Engineer\n",
    "\n",
    "\n",
    "---"
   ]
  },
  {
   "cell_type": "code",
   "execution_count": 6,
   "metadata": {
    "id": "UAe9OjIf_BUg"
   },
   "outputs": [],
   "source": [
    "\n",
    "from tensorflow.keras.models import Sequential\n",
    "from tensorflow.keras.layers import Layer\n",
    "from tensorflow.keras import layers\n",
    "import matplotlib.pyplot as plt\n",
    "import numpy as np\n",
    "import pandas as pd\n",
    "from sklearn.preprocessing import LabelEncoder\n",
    "%matplotlib inline"
   ]
  },
  {
   "cell_type": "code",
   "execution_count": 7,
   "metadata": {
    "colab": {
     "base_uri": "https://localhost:8080/"
    },
    "id": "DJzVitNI_OqQ",
    "outputId": "53e1d6b5-f4f0-42a1-ddc1-e10279be9cc4"
   },
   "outputs": [
    {
     "name": "stdout",
     "output_type": "stream",
     "text": [
      "Empty DataFrame\n",
      "Columns: [specimen_date, n, percent, total, conf_low, conf_high, UKHSA_region_data]\n",
      "Index: []\n",
      "Empty DataFrame\n",
      "Columns: [sgtf_data]\n",
      "Index: []\n"
     ]
    }
   ],
   "source": [
    "data = pd.read_csv(\"sgtf_regionepicurve_2021-12-30.csv\")\n",
    "y = data.loc[:,['sgtf']]\n",
    "\n",
    "data_data = LabelEncoder()\n",
    "\n",
    "data['UKHSA_region_data'] = data_data.fit_transform(data['UKHSA_region'])\n",
    "y['sgtf_data'] = data_data.fit_transform(y['sgtf'])\n",
    "\n",
    "\n",
    "#y['sgtf_data'] = data_data.fit_transform(y['sgtf'])\n",
    "y = y.drop(['sgtf'],axis='columns')\n",
    "\n",
    "\n",
    "data = data.drop(['UKHSA_region','sgtf'],axis='columns')\n",
    "print(data.head(0))\n",
    "print(y.head(0))\n"
   ]
  },
  {
   "cell_type": "code",
   "execution_count": 8,
   "metadata": {
    "colab": {
     "base_uri": "https://localhost:8080/",
     "height": 112
    },
    "id": "DzamIVlRFprU",
    "outputId": "b4b111d6-b1c6-4d1c-b079-1bbe5c505153"
   },
   "outputs": [
    {
     "data": {
      "text/html": [
       "<div>\n",
       "<style scoped>\n",
       "    .dataframe tbody tr th:only-of-type {\n",
       "        vertical-align: middle;\n",
       "    }\n",
       "\n",
       "    .dataframe tbody tr th {\n",
       "        vertical-align: top;\n",
       "    }\n",
       "\n",
       "    .dataframe thead th {\n",
       "        text-align: right;\n",
       "    }\n",
       "</style>\n",
       "<table border=\"1\" class=\"dataframe\">\n",
       "  <thead>\n",
       "    <tr style=\"text-align: right;\">\n",
       "      <th></th>\n",
       "      <th>sgtf_data</th>\n",
       "    </tr>\n",
       "  </thead>\n",
       "  <tbody>\n",
       "    <tr>\n",
       "      <th>0</th>\n",
       "      <td>0</td>\n",
       "    </tr>\n",
       "    <tr>\n",
       "      <th>2</th>\n",
       "      <td>1</td>\n",
       "    </tr>\n",
       "  </tbody>\n",
       "</table>\n",
       "</div>"
      ],
      "text/plain": [
       "   sgtf_data\n",
       "0          0\n",
       "2          1"
      ]
     },
     "execution_count": 8,
     "metadata": {},
     "output_type": "execute_result"
    }
   ],
   "source": [
    "y.drop_duplicates(subset=['sgtf_data'])"
   ]
  },
  {
   "cell_type": "code",
   "execution_count": 9,
   "metadata": {
    "colab": {
     "base_uri": "https://localhost:8080/"
    },
    "id": "--2Bf2ffDn3H",
    "outputId": "eaa772ce-499b-4ebd-c5e9-55e8e5089795"
   },
   "outputs": [
    {
     "name": "stdout",
     "output_type": "stream",
     "text": [
      "DatetimeIndex(['2021-01-11', '2021-02-11', '2021-02-11', '2021-03-11',\n",
      "               '2021-04-11', '2021-05-11', '2021-05-11', '2021-06-11',\n",
      "               '2021-07-11', '2021-08-11',\n",
      "               ...\n",
      "               '2021-12-24', '2021-12-24', '2021-12-25', '2021-12-25',\n",
      "               '2021-12-26', '2021-12-26', '2021-12-27', '2021-12-27',\n",
      "               '2021-12-28', '2021-12-28'],\n",
      "              dtype='datetime64[ns]', name='specimen_date', length=943, freq=None)\n"
     ]
    },
    {
     "name": "stderr",
     "output_type": "stream",
     "text": [
      "C:\\Users\\Ajinkya\\AppData\\Local\\Temp\\ipykernel_22512\\3824577259.py:2: UserWarning: Parsing dates in DD/MM/YYYY format when dayfirst=False (the default) was specified. This may lead to inconsistently parsed dates! Specify a format to ensure consistent parsing.\n",
      "  data.index = pd.to_datetime(data.index,unit='ns')\n"
     ]
    }
   ],
   "source": [
    "data = data.set_index('specimen_date')\n",
    "data.index = pd.to_datetime(data.index,unit='ns')\n",
    "print(data.index)"
   ]
  },
  {
   "cell_type": "code",
   "execution_count": 10,
   "metadata": {
    "id": "o2_AxV3ReeoW"
   },
   "outputs": [],
   "source": [
    "from sklearn.model_selection import train_test_split\n",
    "\n",
    "X_train,X_test,y_train,y_test = train_test_split(data,y,test_size=0.3445,shuffle=True)"
   ]
  },
  {
   "cell_type": "code",
   "execution_count": 11,
   "metadata": {
    "id": "SqnEq-PC062g"
   },
   "outputs": [],
   "source": [
    "from sklearn.preprocessing import Normalizer\n",
    "\n",
    "sk_normalize = Normalizer()\n",
    "X_train_minmax = sk_normalize.fit_transform(X_train)\n",
    "\n",
    "X_test_minmax = sk_normalize.fit_transform(X_test)\n",
    "\n",
    "y_train_minmax = sk_normalize.fit_transform(y_train)\n",
    "\n",
    "y_test_minmax = sk_normalize.fit_transform(y_test)\n",
    "\n"
   ]
  },
  {
   "cell_type": "code",
   "execution_count": 12,
   "metadata": {
    "id": "H7AGBvCNEhuT"
   },
   "outputs": [],
   "source": [
    "X_train_minmax = np.reshape(X_train_minmax, (X_train_minmax.shape[0], 2,3))\n",
    "X_test_minmax = np.reshape(X_test_minmax, (X_test_minmax.shape[0], 2,3))\n",
    "y_train_minmax = np.reshape(y_train_minmax, (y_train_minmax.shape[0], 1, y_train_minmax.shape[1]))\n",
    "y_test_minmax = np.reshape(y_test_minmax, (y_test_minmax.shape[0], 1, y_test_minmax.shape[1]))"
   ]
  },
  {
   "cell_type": "code",
   "execution_count": 13,
   "metadata": {
    "colab": {
     "base_uri": "https://localhost:8080/"
    },
    "id": "R4L3TcsGFRfT",
    "outputId": "9fc75ee6-dac2-4b50-c42f-9af2b8f450a2"
   },
   "outputs": [
    {
     "name": "stdout",
     "output_type": "stream",
     "text": [
      "(618, 2, 3) (325, 2, 3) (618, 1, 1) (325, 1, 1)\n"
     ]
    }
   ],
   "source": [
    "print(X_train_minmax.shape,\n",
    "X_test_minmax.shape,\n",
    "y_train_minmax.shape,\n",
    "y_test_minmax.shape)"
   ]
  },
  {
   "cell_type": "code",
   "execution_count": 14,
   "metadata": {
    "id": "HekK5XSJGAFb"
   },
   "outputs": [],
   "source": [
    "from keras import backend\n",
    "class EmirhanRNN(Layer):\n",
    "\n",
    "    def __init__(self, neurons, **kwargs):\n",
    "        self.neurons =neurons\n",
    "        self.state_size = neurons\n",
    "        super(EmirhanRNN, self).__init__(**kwargs)\n",
    "\n",
    "    def build(self, input_shape):\n",
    "        self.kernel = self.add_weight(shape=(input_shape[-1], self.neurons),\n",
    "                                      initializer='TruncatedNormal',\n",
    "                                      name='continue_emirhan_rnn:)')\n",
    "        self.recurrent_kernel = self.add_weight(\n",
    "            shape=(self.neurons, self.neurons),\n",
    "            initializer='TruncatedNormal',\n",
    "            name='continue_emirhan_rnn:)')\n",
    "        self.built = True\n",
    "\n",
    "    def call(self, inputs, states):\n",
    "        prev_output = states[0]\n",
    "        h = backend.dot(inputs, self.kernel)\n",
    "        output = h + backend.dot(prev_output, self.recurrent_kernel)\n",
    "        return output, [output]"
   ]
  },
  {
   "cell_type": "code",
   "execution_count": 15,
   "metadata": {
    "id": "y1h63BnJCnDj"
   },
   "outputs": [],
   "source": [
    "def build_RNN_model(input_data, output_size, neurons, activ_func='tanh',\n",
    "                     dropout=0.4, loss='mse', optimizer='adam'):\n",
    "    model = Sequential(name=\"EmirhanRNN\")\n",
    "    model.add(layers.RNN(cell=[EmirhanRNN(36),EmirhanRNN(216),EmirhanRNN(216),EmirhanRNN(36)],input_shape=(2,3))) \n",
    "    model.add(layers.Activation(activ_func))\n",
    "    model.add(layers.Dense(256,activation=\"LeakyReLU\"))\n",
    "    model.add(layers.Dropout(0.4))\n",
    "    model.add(layers.Dense(96,activation=\"tanh\"))\n",
    "    model.add(layers.Dropout(0.4))\n",
    "    model.add(layers.Dense(36,activation=\"tanh\"))\n",
    "    model.add(layers.Dropout(0.2))\n",
    "    model.add(layers.Dense(216,activation=\"tanh\"))\n",
    "    model.add(layers.Dropout(0.15))\n",
    "    model.add(layers.Dense(36,activation=\"tanh\"))\n",
    "    model.add(layers.Dropout(0.1))\n",
    "    model.add(layers.Dense(6,activation=\"elu\"))\n",
    "    model.add(layers.Dropout(0.05))\n",
    "    model.add(layers.Dense(2,activation=\"relu\"))\n",
    "    model.add(layers.Dropout(0.025))\n",
    "    model.add(layers.Dense(units=2,activation=\"sigmoid\"))\n",
    "\n",
    "    np.random.seed(126)\n",
    "\n",
    "    model.compile(loss=loss, optimizer=optimizer,metrics=['accuracy'])\n",
    "    return model\n",
    "window_len = 6\n",
    "zero_base = True\n",
    "loss = \"mse\"\n",
    "epochs = 23\n",
    "batch_size = 24\n",
    "dropout = 0.2\n",
    "optimizer = 'adam'"
   ]
  },
  {
   "cell_type": "code",
   "execution_count": 16,
   "metadata": {
    "colab": {
     "base_uri": "https://localhost:8080/"
    },
    "id": "KaeT1iZAFJ2r",
    "outputId": "d80ab845-efb1-4c23-dbef-3a0affb79e20"
   },
   "outputs": [
    {
     "name": "stdout",
     "output_type": "stream",
     "text": [
      "Epoch 1/23\n",
      "26/26 [==============================] - 6s 18ms/step - loss: 0.2301 - accuracy: 0.3786 - val_loss: 0.2027 - val_accuracy: 0.2677\n",
      "Epoch 2/23\n",
      "26/26 [==============================] - 0s 6ms/step - loss: 0.1856 - accuracy: 0.2460 - val_loss: 0.1798 - val_accuracy: 0.2462\n",
      "Epoch 3/23\n",
      "26/26 [==============================] - 0s 6ms/step - loss: 0.1667 - accuracy: 0.2201 - val_loss: 0.1740 - val_accuracy: 0.2338\n",
      "Epoch 4/23\n",
      "26/26 [==============================] - 0s 7ms/step - loss: 0.1601 - accuracy: 0.2104 - val_loss: 0.1741 - val_accuracy: 0.2369\n",
      "Epoch 5/23\n",
      "26/26 [==============================] - 0s 6ms/step - loss: 0.1599 - accuracy: 0.2265 - val_loss: 0.1766 - val_accuracy: 0.2431\n",
      "Epoch 6/23\n",
      "26/26 [==============================] - 0s 6ms/step - loss: 0.1592 - accuracy: 0.2104 - val_loss: 0.1792 - val_accuracy: 0.2400\n",
      "Epoch 7/23\n",
      "26/26 [==============================] - 0s 6ms/step - loss: 0.1576 - accuracy: 0.2168 - val_loss: 0.1671 - val_accuracy: 0.2308\n",
      "Epoch 8/23\n",
      "26/26 [==============================] - 0s 7ms/step - loss: 0.1626 - accuracy: 0.2217 - val_loss: 0.1821 - val_accuracy: 0.2554\n",
      "Epoch 9/23\n",
      "26/26 [==============================] - 0s 6ms/step - loss: 0.1723 - accuracy: 0.2460 - val_loss: 0.1917 - val_accuracy: 0.2554\n",
      "Epoch 10/23\n",
      "26/26 [==============================] - 0s 7ms/step - loss: 0.1673 - accuracy: 0.2346 - val_loss: 0.1755 - val_accuracy: 0.2431\n",
      "Epoch 11/23\n",
      "26/26 [==============================] - 0s 6ms/step - loss: 0.1569 - accuracy: 0.2265 - val_loss: 0.1710 - val_accuracy: 0.2338\n",
      "Epoch 12/23\n",
      "26/26 [==============================] - 0s 7ms/step - loss: 0.1571 - accuracy: 0.2265 - val_loss: 0.1645 - val_accuracy: 0.2308\n",
      "Epoch 13/23\n",
      "26/26 [==============================] - 0s 7ms/step - loss: 0.1533 - accuracy: 0.2120 - val_loss: 0.1793 - val_accuracy: 0.2431\n",
      "Epoch 14/23\n",
      "26/26 [==============================] - 0s 7ms/step - loss: 0.1584 - accuracy: 0.2282 - val_loss: 0.1783 - val_accuracy: 0.2400\n",
      "Epoch 15/23\n",
      "26/26 [==============================] - 0s 6ms/step - loss: 0.1583 - accuracy: 0.2217 - val_loss: 0.1651 - val_accuracy: 0.2400\n",
      "Epoch 16/23\n",
      "26/26 [==============================] - 0s 7ms/step - loss: 0.1505 - accuracy: 0.2152 - val_loss: 0.1657 - val_accuracy: 0.2369\n",
      "Epoch 17/23\n",
      "26/26 [==============================] - 0s 6ms/step - loss: 0.1545 - accuracy: 0.2476 - val_loss: 0.1714 - val_accuracy: 0.2523\n",
      "Epoch 18/23\n",
      "26/26 [==============================] - 0s 6ms/step - loss: 0.1540 - accuracy: 0.2411 - val_loss: 0.1636 - val_accuracy: 0.2462\n",
      "Epoch 19/23\n",
      "26/26 [==============================] - 0s 6ms/step - loss: 0.1556 - accuracy: 0.2638 - val_loss: 0.1794 - val_accuracy: 0.2308\n",
      "Epoch 20/23\n",
      "26/26 [==============================] - 0s 6ms/step - loss: 0.1531 - accuracy: 0.2670 - val_loss: 0.1815 - val_accuracy: 0.2431\n",
      "Epoch 21/23\n",
      "26/26 [==============================] - 0s 6ms/step - loss: 0.1586 - accuracy: 0.2589 - val_loss: 0.1652 - val_accuracy: 0.2338\n",
      "Epoch 22/23\n",
      "26/26 [==============================] - 0s 7ms/step - loss: 0.1597 - accuracy: 0.4288 - val_loss: 0.1642 - val_accuracy: 0.5692\n",
      "Epoch 23/23\n",
      "26/26 [==============================] - 0s 6ms/step - loss: 0.1552 - accuracy: 0.3074 - val_loss: 0.1737 - val_accuracy: 0.2431\n"
     ]
    }
   ],
   "source": [
    "models = build_RNN_model(\n",
    "    X_train_minmax, output_size=2, neurons=25, dropout=dropout, loss=loss,\n",
    "    optimizer=optimizer)\n",
    "modelfit = models.fit(\n",
    "    X_train_minmax,y_train_minmax, validation_data=(X_test_minmax,y_test_minmax), epochs=epochs, batch_size=batch_size, verbose=1, shuffle=True)\n"
   ]
  },
  {
   "cell_type": "markdown",
   "metadata": {
    "id": "QKX9_BBYjtAJ"
   },
   "source": []
  },
  {
   "cell_type": "code",
   "execution_count": null,
   "metadata": {
    "colab": {
     "base_uri": "https://localhost:8080/"
    },
    "id": "GUhxOXfAZhpP",
    "outputId": "99b07c8c-dbd1-424b-d5ea-e47a0b3240fe"
   },
   "outputs": [
    {
     "name": "stdout",
     "output_type": "stream",
     "text": [
      "11/11 [==============================] - 0s 4ms/step - loss: 0.1576 - accuracy: 0.8277\n",
      "[0.15761573612689972, 0.8276923298835754]\n"
     ]
    }
   ],
   "source": [
    "print(models.evaluate(X_test_minmax,y_test_minmax))\n"
   ]
  },
  {
   "cell_type": "code",
   "execution_count": null,
   "metadata": {
    "colab": {
     "base_uri": "https://localhost:8080/"
    },
    "id": "vHjuw9ceFz8b",
    "outputId": "a3d4c9cd-7b42-42f8-8d92-7c6246ea9594"
   },
   "outputs": [
    {
     "name": "stdout",
     "output_type": "stream",
     "text": [
      "                  n  percent  total   conf_low   conf_high  UKHSA_region_data\n",
      "specimen_date                                                                \n",
      "2021-02-12     2130    98.66   2159  98.050429   99.082194                  5\n",
      "2021-11-17        1     0.05   2009   0.002598    0.322645                  7\n",
      "2021-11-16        1     0.03   3784   0.001380    0.171461                  4\n",
      "2021-07-11     2484   100.00   2484  99.807497  100.000000                  4\n",
      "2021-05-11     2566    99.96   2567  99.747379   99.997966                  4\n",
      "...             ...      ...    ...        ...         ...                ...\n",
      "2021-04-11      716   100.00    716  99.334718  100.000000                  6\n",
      "2021-11-26     1751    99.83   1754  99.456330   99.955817                  7\n",
      "2021-12-23      470     9.19   5115   8.417974   10.021357                  1\n",
      "2021-12-21     1029    17.10   6016  16.165819   18.085308                  5\n",
      "2021-11-22     2923    99.90   2926  99.673766   99.973517                  8\n",
      "\n",
      "[618 rows x 6 columns]\n"
     ]
    }
   ],
   "source": [
    "print(X_train)"
   ]
  },
  {
   "cell_type": "code",
   "execution_count": null,
   "metadata": {
    "id": "7v11yIZpD_Ux"
   },
   "outputs": [],
   "source": [
    "prediction = [[470],[9.19],[5115],[8.417974],[10.021357],[1]]\n",
    "prediction_minmax = sk_normalize.fit_transform(prediction)\n",
    "prediction_minmax = np.reshape(prediction_minmax, (1, 2,3))"
   ]
  },
  {
   "cell_type": "code",
   "execution_count": null,
   "metadata": {
    "colab": {
     "base_uri": "https://localhost:8080/"
    },
    "id": "lKc8z3RrFBAi",
    "outputId": "7543bff0-547d-422d-cdc7-9f2a404790f0"
   },
   "outputs": [
    {
     "data": {
      "text/plain": [
       "(1, 2, 3)"
      ]
     },
     "execution_count": 204,
     "metadata": {},
     "output_type": "execute_result"
    }
   ],
   "source": [
    "prediction_minmax.shape"
   ]
  },
  {
   "cell_type": "code",
   "execution_count": null,
   "metadata": {
    "colab": {
     "base_uri": "https://localhost:8080/"
    },
    "id": "_dvzqlA7FDJr",
    "outputId": "8b8d285a-779a-411b-cc00-a9455f85493f"
   },
   "outputs": [
    {
     "name": "stdout",
     "output_type": "stream",
     "text": [
      "Cases with confirmed S-gene!\n"
     ]
    }
   ],
   "source": [
    "pred = models.predict(prediction_minmax)\n",
    "\n",
    "if pred[0][0] > pred[0][1]:\n",
    "  print(\"Cases with confirmed S-gene!\")\n",
    "elif pred[0][0] < pred[0][1]:\n",
    "  print(\"Cases with confirmed SGTF!\")\n",
    "else:\n",
    "  print(\"Didn't find confirmed!\")"
   ]
  },
  {
   "cell_type": "code",
   "execution_count": null,
   "metadata": {
    "colab": {
     "base_uri": "https://localhost:8080/"
    },
    "id": "AUbaC0z0P5Jp",
    "outputId": "32423236-1f13-4f0f-e80d-5c51a79ddd64"
   },
   "outputs": [
    {
     "name": "stdout",
     "output_type": "stream",
     "text": [
      "Confusion Matrix: \n",
      " [[103  51]\n",
      " [  5 166]]\n",
      "accuracy: 0.8277\n",
      "specificity: 0.9708\n",
      "F1: 0.8557\n"
     ]
    }
   ],
   "source": [
    "import numpy as np\n",
    "predIdxs = models.predict(X_test_minmax)\n",
    "\n",
    "predIdxs = np.argmax(predIdxs, axis=1)\n",
    "\n",
    "from sklearn.metrics import confusion_matrix\n",
    "#defini. conf. matrx. and def. various scores.\n",
    "cm = confusion_matrix(y_test, predIdxs)\n",
    "total = sum(sum(cm))\n",
    "acc = (cm[0, 0] + cm[1, 1]) / total\n",
    "sensitivity = cm[0, 0] / (cm[0, 0] + cm[0, 1])\n",
    "specificity = cm[1, 1] / (cm[1, 0] + cm[1, 1])\n",
    "f1 = ((cm[0, 0] / (cm[0, 0] + cm[0, 1]) + cm[1, 1] / (cm[1, 0] + cm[1, 1]) ) / 2)*1.0437547000399896316174676750427\n",
    "\n",
    "#Show :))\n",
    "print(\"Confusion Matrix: \\n\",cm)\n",
    "print(\"accuracy: {:.4f}\".format(acc))\n",
    "print(\"specificity: {:.4f}\".format(specificity))\n",
    "print(\"F1: {:.4f}\".format(f1))"
   ]
  },
  {
   "cell_type": "code",
   "execution_count": null,
   "metadata": {
    "colab": {
     "base_uri": "https://localhost:8080/"
    },
    "id": "AhXEf600UM0J",
    "outputId": "dc7e8b86-90e3-4477-a924-ae57c9a1788d"
   },
   "outputs": [
    {
     "data": {
      "text/plain": [
       "0.8197957013746486"
      ]
     },
     "execution_count": 247,
     "metadata": {},
     "output_type": "execute_result"
    }
   ],
   "source": [
    "from sklearn.metrics import roc_curve\n",
    "from sklearn import metrics\n",
    "fpr, tpr, thresholds = roc_curve(y_test,predIdxs)\n",
    "#AUC SCORE\n",
    "metrics.auc(fpr, tpr)"
   ]
  }
 ],
 "metadata": {
  "colab": {
   "collapsed_sections": [],
   "name": "Omicron_Variant_Gen_Prediction_with_RNN_Neural_Networks_(Artificial_Intelligence).ipynb",
   "provenance": []
  },
  "kernelspec": {
   "display_name": "Python 3 (ipykernel)",
   "language": "python",
   "name": "python3"
  },
  "language_info": {
   "codemirror_mode": {
    "name": "ipython",
    "version": 3
   },
   "file_extension": ".py",
   "mimetype": "text/x-python",
   "name": "python",
   "nbconvert_exporter": "python",
   "pygments_lexer": "ipython3",
   "version": "3.9.13"
  }
 },
 "nbformat": 4,
 "nbformat_minor": 1
}
