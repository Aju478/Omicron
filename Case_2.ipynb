{
 "cells": [
  {
   "cell_type": "code",
   "execution_count": 1,
   "id": "e2d7b663",
   "metadata": {},
   "outputs": [],
   "source": [
    "import numpy as np\n",
    "import pandas as pd\n",
    "from sklearn.preprocessing import LabelEncoder"
   ]
  },
  {
   "cell_type": "code",
   "execution_count": 7,
   "id": "af484207",
   "metadata": {},
   "outputs": [
    {
     "data": {
      "text/html": [
       "<div>\n",
       "<style scoped>\n",
       "    .dataframe tbody tr th:only-of-type {\n",
       "        vertical-align: middle;\n",
       "    }\n",
       "\n",
       "    .dataframe tbody tr th {\n",
       "        vertical-align: top;\n",
       "    }\n",
       "\n",
       "    .dataframe thead th {\n",
       "        text-align: right;\n",
       "    }\n",
       "</style>\n",
       "<table border=\"1\" class=\"dataframe\">\n",
       "  <thead>\n",
       "    <tr style=\"text-align: right;\">\n",
       "      <th></th>\n",
       "      <th>UKHSA_region</th>\n",
       "      <th>specimen_date</th>\n",
       "      <th>n</th>\n",
       "      <th>percent</th>\n",
       "      <th>sgtf</th>\n",
       "      <th>total</th>\n",
       "      <th>conf_low</th>\n",
       "      <th>conf_high</th>\n",
       "    </tr>\n",
       "  </thead>\n",
       "  <tbody>\n",
       "    <tr>\n",
       "      <th>0</th>\n",
       "      <td>East Midlands</td>\n",
       "      <td>01/11/2021</td>\n",
       "      <td>874</td>\n",
       "      <td>100.00</td>\n",
       "      <td>Cases with confirmed S-gene</td>\n",
       "      <td>874</td>\n",
       "      <td>99.454454</td>\n",
       "      <td>100.00000</td>\n",
       "    </tr>\n",
       "    <tr>\n",
       "      <th>1</th>\n",
       "      <td>East Midlands</td>\n",
       "      <td>02/11/2021</td>\n",
       "      <td>724</td>\n",
       "      <td>99.86</td>\n",
       "      <td>Cases with confirmed S-gene</td>\n",
       "      <td>725</td>\n",
       "      <td>99.109120</td>\n",
       "      <td>99.99280</td>\n",
       "    </tr>\n",
       "    <tr>\n",
       "      <th>2</th>\n",
       "      <td>East Midlands</td>\n",
       "      <td>02/11/2021</td>\n",
       "      <td>1</td>\n",
       "      <td>0.14</td>\n",
       "      <td>Cases with confirmed SGTF</td>\n",
       "      <td>725</td>\n",
       "      <td>0.007200</td>\n",
       "      <td>0.89088</td>\n",
       "    </tr>\n",
       "    <tr>\n",
       "      <th>3</th>\n",
       "      <td>East Midlands</td>\n",
       "      <td>03/11/2021</td>\n",
       "      <td>757</td>\n",
       "      <td>100.00</td>\n",
       "      <td>Cases with confirmed S-gene</td>\n",
       "      <td>757</td>\n",
       "      <td>99.370567</td>\n",
       "      <td>100.00000</td>\n",
       "    </tr>\n",
       "    <tr>\n",
       "      <th>4</th>\n",
       "      <td>East Midlands</td>\n",
       "      <td>04/11/2021</td>\n",
       "      <td>598</td>\n",
       "      <td>100.00</td>\n",
       "      <td>Cases with confirmed S-gene</td>\n",
       "      <td>598</td>\n",
       "      <td>99.204289</td>\n",
       "      <td>100.00000</td>\n",
       "    </tr>\n",
       "  </tbody>\n",
       "</table>\n",
       "</div>"
      ],
      "text/plain": [
       "    UKHSA_region specimen_date    n  percent                         sgtf  \\\n",
       "0  East Midlands    01/11/2021  874   100.00  Cases with confirmed S-gene   \n",
       "1  East Midlands    02/11/2021  724    99.86  Cases with confirmed S-gene   \n",
       "2  East Midlands    02/11/2021    1     0.14    Cases with confirmed SGTF   \n",
       "3  East Midlands    03/11/2021  757   100.00  Cases with confirmed S-gene   \n",
       "4  East Midlands    04/11/2021  598   100.00  Cases with confirmed S-gene   \n",
       "\n",
       "   total   conf_low  conf_high  \n",
       "0    874  99.454454  100.00000  \n",
       "1    725  99.109120   99.99280  \n",
       "2    725   0.007200    0.89088  \n",
       "3    757  99.370567  100.00000  \n",
       "4    598  99.204289  100.00000  "
      ]
     },
     "execution_count": 7,
     "metadata": {},
     "output_type": "execute_result"
    }
   ],
   "source": [
    "data = pd.read_csv('sgtf_regionepicurve_2021-12-30.csv')\n",
    "data.head()"
   ]
  },
  {
   "cell_type": "code",
   "execution_count": 8,
   "id": "3de7639f",
   "metadata": {},
   "outputs": [
    {
     "name": "stdout",
     "output_type": "stream",
     "text": [
      "Empty DataFrame\n",
      "Columns: [specimen_date, n, percent, total, conf_low, conf_high, UKHSA_region_data]\n",
      "Index: []\n",
      "Empty DataFrame\n",
      "Columns: [sgtf_data]\n",
      "Index: []\n"
     ]
    }
   ],
   "source": [
    "y = data.loc[:,['sgtf']]\n",
    "\n",
    "data_data = LabelEncoder()\n",
    "\n",
    "data['UKHSA_region_data'] = data_data.fit_transform(data['UKHSA_region'])\n",
    "y['sgtf_data'] = data_data.fit_transform(y['sgtf'])\n",
    "\n",
    "\n",
    "#y['sgtf_data'] = data_data.fit_transform(y['sgtf'])\n",
    "y = y.drop(['sgtf'],axis='columns')\n",
    "\n",
    "\n",
    "data = data.drop(['UKHSA_region','sgtf'],axis='columns')\n",
    "print(data.head(0))\n",
    "print(y.head(0))\n"
   ]
  },
  {
   "cell_type": "code",
   "execution_count": 9,
   "id": "4b592325",
   "metadata": {},
   "outputs": [
    {
     "data": {
      "text/html": [
       "<div>\n",
       "<style scoped>\n",
       "    .dataframe tbody tr th:only-of-type {\n",
       "        vertical-align: middle;\n",
       "    }\n",
       "\n",
       "    .dataframe tbody tr th {\n",
       "        vertical-align: top;\n",
       "    }\n",
       "\n",
       "    .dataframe thead th {\n",
       "        text-align: right;\n",
       "    }\n",
       "</style>\n",
       "<table border=\"1\" class=\"dataframe\">\n",
       "  <thead>\n",
       "    <tr style=\"text-align: right;\">\n",
       "      <th></th>\n",
       "      <th>sgtf_data</th>\n",
       "    </tr>\n",
       "  </thead>\n",
       "  <tbody>\n",
       "    <tr>\n",
       "      <th>0</th>\n",
       "      <td>0</td>\n",
       "    </tr>\n",
       "    <tr>\n",
       "      <th>2</th>\n",
       "      <td>1</td>\n",
       "    </tr>\n",
       "  </tbody>\n",
       "</table>\n",
       "</div>"
      ],
      "text/plain": [
       "   sgtf_data\n",
       "0          0\n",
       "2          1"
      ]
     },
     "execution_count": 9,
     "metadata": {},
     "output_type": "execute_result"
    }
   ],
   "source": [
    "y.drop_duplicates(subset=['sgtf_data'])"
   ]
  },
  {
   "cell_type": "code",
   "execution_count": 10,
   "id": "85430758",
   "metadata": {},
   "outputs": [
    {
     "name": "stdout",
     "output_type": "stream",
     "text": [
      "DatetimeIndex(['2021-01-11', '2021-02-11', '2021-02-11', '2021-03-11',\n",
      "               '2021-04-11', '2021-05-11', '2021-05-11', '2021-06-11',\n",
      "               '2021-07-11', '2021-08-11',\n",
      "               ...\n",
      "               '2021-12-24', '2021-12-24', '2021-12-25', '2021-12-25',\n",
      "               '2021-12-26', '2021-12-26', '2021-12-27', '2021-12-27',\n",
      "               '2021-12-28', '2021-12-28'],\n",
      "              dtype='datetime64[ns]', name='specimen_date', length=943, freq=None)\n"
     ]
    },
    {
     "name": "stderr",
     "output_type": "stream",
     "text": [
      "C:\\Users\\Ajinkya\\AppData\\Local\\Temp\\ipykernel_8740\\3824577259.py:2: UserWarning: Parsing dates in DD/MM/YYYY format when dayfirst=False (the default) was specified. This may lead to inconsistently parsed dates! Specify a format to ensure consistent parsing.\n",
      "  data.index = pd.to_datetime(data.index,unit='ns')\n"
     ]
    }
   ],
   "source": [
    "data = data.set_index('specimen_date')\n",
    "data.index = pd.to_datetime(data.index,unit='ns')\n",
    "print(data.index)"
   ]
  },
  {
   "cell_type": "code",
   "execution_count": 11,
   "id": "3b97c74b",
   "metadata": {},
   "outputs": [
    {
     "name": "stdout",
     "output_type": "stream",
     "text": [
      "X:  0 1.0\n"
     ]
    },
    {
     "name": "stderr",
     "output_type": "stream",
     "text": [
      "C:\\Users\\Ajinkya\\AppData\\Local\\Temp\\ipykernel_8740\\3271403610.py:8: DataConversionWarning: A column-vector y was passed when a 1d array was expected. Please change the shape of y to (n_samples,), for example using ravel().\n",
      "  models.fit(X_train,y_train)\n"
     ]
    }
   ],
   "source": [
    "from sklearn.model_selection import train_test_split\n",
    "from sklearn.ensemble import ExtraTreesClassifier\n",
    "import numpy as np\n",
    "from sklearn.metrics import accuracy_score\n",
    "for i in np.arange(0,1,1):\n",
    "    X_train,X_test,y_train,y_test = train_test_split(data,y,test_size=0.02,shuffle=False)\n",
    "    models = ExtraTreesClassifier(n_estimators=10,random_state=20,criterion=\"gini\")\n",
    "    models.fit(X_train,y_train)\n",
    "    predIdxs = models.predict(X_test)\n",
    "    print(\"X: \",i,accuracy_score(y_test,predIdxs))"
   ]
  },
  {
   "cell_type": "code",
   "execution_count": 12,
   "id": "e2933867",
   "metadata": {},
   "outputs": [
    {
     "name": "stdout",
     "output_type": "stream",
     "text": [
      "Confusion Matrix: \n",
      " [[ 9  0]\n",
      " [ 0 10]]\n",
      "accuracy: 1.0000\n",
      "specificity: 1.0000\n",
      "F1: 1.0000\n"
     ]
    }
   ],
   "source": [
    "from sklearn.metrics import confusion_matrix\n",
    "from sklearn.metrics import *\n",
    "cm = confusion_matrix(y_test, predIdxs)\n",
    "total = sum(sum(cm))\n",
    "acc = (cm[0, 0] + cm[1, 1]) / total\n",
    "sensitivity = cm[0, 0] / (cm[0, 0] + cm[0, 1])\n",
    "specificity = cm[1, 1] / (cm[1, 0] + cm[1, 1])\n",
    "print(\"Confusion Matrix: \\n\",cm)\n",
    "print(\"accuracy: {:.4f}\".format(acc))\n",
    "print(\"specificity: {:.4f}\".format(specificity))\n",
    "print(\"F1: {:.4f}\".format(f1_score(y_test,predIdxs)))"
   ]
  },
  {
   "cell_type": "code",
   "execution_count": 13,
   "id": "5aea906c",
   "metadata": {},
   "outputs": [],
   "source": [
    "prediction = [[1],[0.14],[725],[0.007200],[0.890879771],[0]]\n",
    "prediction = np.reshape(prediction, (1,6))"
   ]
  },
  {
   "cell_type": "code",
   "execution_count": 14,
   "id": "92a177dd",
   "metadata": {},
   "outputs": [
    {
     "name": "stdout",
     "output_type": "stream",
     "text": [
      "Cases with confirmed SGTF!\n"
     ]
    },
    {
     "name": "stderr",
     "output_type": "stream",
     "text": [
      "C:\\Users\\Ajinkya\\Kobe\\lib\\site-packages\\sklearn\\base.py:409: UserWarning: X does not have valid feature names, but ExtraTreesClassifier was fitted with feature names\n",
      "  warnings.warn(\n"
     ]
    }
   ],
   "source": [
    "pred = models.predict(prediction)\n",
    "\n",
    "if pred[0] == 0:\n",
    "    print(\"Cases with confirmed S-gene!\")\n",
    "elif pred[0] == 1:\n",
    "    print(\"Cases with confirmed SGTF!\")\n",
    "else:\n",
    "    print(\"Didn't find confirmed!\")"
   ]
  },
  {
   "cell_type": "code",
   "execution_count": 15,
   "id": "b3b6bd69",
   "metadata": {},
   "outputs": [
    {
     "data": {
      "text/plain": [
       "100.0"
      ]
     },
     "execution_count": 15,
     "metadata": {},
     "output_type": "execute_result"
    }
   ],
   "source": [
    "from sklearn.metrics import roc_curve\n",
    "from sklearn import metrics\n",
    "fpr, tpr, thresholds = roc_curve(y_test,predIdxs)\n",
    "#AUC SCORE\n",
    "(metrics.auc(fpr, tpr))*100"
   ]
  },
  {
   "cell_type": "code",
   "execution_count": null,
   "id": "f8167c50",
   "metadata": {},
   "outputs": [],
   "source": []
  }
 ],
 "metadata": {
  "kernelspec": {
   "display_name": "Python 3 (ipykernel)",
   "language": "python",
   "name": "python3"
  },
  "language_info": {
   "codemirror_mode": {
    "name": "ipython",
    "version": 3
   },
   "file_extension": ".py",
   "mimetype": "text/x-python",
   "name": "python",
   "nbconvert_exporter": "python",
   "pygments_lexer": "ipython3",
   "version": "3.9.13"
  }
 },
 "nbformat": 4,
 "nbformat_minor": 5
}
