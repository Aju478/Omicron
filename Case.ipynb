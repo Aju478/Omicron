{
 "cells": [
  {
   "cell_type": "code",
   "execution_count": 26,
   "id": "50cc42ee",
   "metadata": {},
   "outputs": [],
   "source": [
    "from tensorflow.keras.models import Sequential\n",
    "from tensorflow.keras.layers import Layer\n",
    "from tensorflow.keras import layers\n",
    "import matplotlib.pyplot as plt\n",
    "import numpy as np\n",
    "import pandas as pd\n",
    "from sklearn.preprocessing import LabelEncoder\n",
    "%matplotlib inline"
   ]
  },
  {
   "cell_type": "code",
   "execution_count": 27,
   "id": "19a91b48",
   "metadata": {},
   "outputs": [
    {
     "data": {
      "text/html": [
       "<div>\n",
       "<style scoped>\n",
       "    .dataframe tbody tr th:only-of-type {\n",
       "        vertical-align: middle;\n",
       "    }\n",
       "\n",
       "    .dataframe tbody tr th {\n",
       "        vertical-align: top;\n",
       "    }\n",
       "\n",
       "    .dataframe thead th {\n",
       "        text-align: right;\n",
       "    }\n",
       "</style>\n",
       "<table border=\"1\" class=\"dataframe\">\n",
       "  <thead>\n",
       "    <tr style=\"text-align: right;\">\n",
       "      <th></th>\n",
       "      <th>UKHSA_region</th>\n",
       "      <th>specimen_date</th>\n",
       "      <th>n</th>\n",
       "      <th>percent</th>\n",
       "      <th>sgtf</th>\n",
       "      <th>total</th>\n",
       "      <th>conf_low</th>\n",
       "      <th>conf_high</th>\n",
       "    </tr>\n",
       "  </thead>\n",
       "  <tbody>\n",
       "    <tr>\n",
       "      <th>0</th>\n",
       "      <td>East Midlands</td>\n",
       "      <td>01/11/2021</td>\n",
       "      <td>874</td>\n",
       "      <td>100.00</td>\n",
       "      <td>Cases with confirmed S-gene</td>\n",
       "      <td>874</td>\n",
       "      <td>99.454454</td>\n",
       "      <td>100.00000</td>\n",
       "    </tr>\n",
       "    <tr>\n",
       "      <th>1</th>\n",
       "      <td>East Midlands</td>\n",
       "      <td>02/11/2021</td>\n",
       "      <td>724</td>\n",
       "      <td>99.86</td>\n",
       "      <td>Cases with confirmed S-gene</td>\n",
       "      <td>725</td>\n",
       "      <td>99.109120</td>\n",
       "      <td>99.99280</td>\n",
       "    </tr>\n",
       "    <tr>\n",
       "      <th>2</th>\n",
       "      <td>East Midlands</td>\n",
       "      <td>02/11/2021</td>\n",
       "      <td>1</td>\n",
       "      <td>0.14</td>\n",
       "      <td>Cases with confirmed SGTF</td>\n",
       "      <td>725</td>\n",
       "      <td>0.007200</td>\n",
       "      <td>0.89088</td>\n",
       "    </tr>\n",
       "    <tr>\n",
       "      <th>3</th>\n",
       "      <td>East Midlands</td>\n",
       "      <td>03/11/2021</td>\n",
       "      <td>757</td>\n",
       "      <td>100.00</td>\n",
       "      <td>Cases with confirmed S-gene</td>\n",
       "      <td>757</td>\n",
       "      <td>99.370567</td>\n",
       "      <td>100.00000</td>\n",
       "    </tr>\n",
       "    <tr>\n",
       "      <th>4</th>\n",
       "      <td>East Midlands</td>\n",
       "      <td>04/11/2021</td>\n",
       "      <td>598</td>\n",
       "      <td>100.00</td>\n",
       "      <td>Cases with confirmed S-gene</td>\n",
       "      <td>598</td>\n",
       "      <td>99.204289</td>\n",
       "      <td>100.00000</td>\n",
       "    </tr>\n",
       "  </tbody>\n",
       "</table>\n",
       "</div>"
      ],
      "text/plain": [
       "    UKHSA_region specimen_date    n  percent                         sgtf  \\\n",
       "0  East Midlands    01/11/2021  874   100.00  Cases with confirmed S-gene   \n",
       "1  East Midlands    02/11/2021  724    99.86  Cases with confirmed S-gene   \n",
       "2  East Midlands    02/11/2021    1     0.14    Cases with confirmed SGTF   \n",
       "3  East Midlands    03/11/2021  757   100.00  Cases with confirmed S-gene   \n",
       "4  East Midlands    04/11/2021  598   100.00  Cases with confirmed S-gene   \n",
       "\n",
       "   total   conf_low  conf_high  \n",
       "0    874  99.454454  100.00000  \n",
       "1    725  99.109120   99.99280  \n",
       "2    725   0.007200    0.89088  \n",
       "3    757  99.370567  100.00000  \n",
       "4    598  99.204289  100.00000  "
      ]
     },
     "execution_count": 27,
     "metadata": {},
     "output_type": "execute_result"
    }
   ],
   "source": [
    "df = pd.read_csv('sgtf_regionepicurve_2021-12-30.csv')\n",
    "df.head()"
   ]
  },
  {
   "cell_type": "code",
   "execution_count": 28,
   "id": "781192e0",
   "metadata": {},
   "outputs": [
    {
     "name": "stdout",
     "output_type": "stream",
     "text": [
      "<class 'pandas.core.frame.DataFrame'>\n",
      "RangeIndex: 943 entries, 0 to 942\n",
      "Data columns (total 8 columns):\n",
      " #   Column         Non-Null Count  Dtype  \n",
      "---  ------         --------------  -----  \n",
      " 0   UKHSA_region   943 non-null    object \n",
      " 1   specimen_date  943 non-null    object \n",
      " 2   n              943 non-null    int64  \n",
      " 3   percent        943 non-null    float64\n",
      " 4   sgtf           943 non-null    object \n",
      " 5   total          943 non-null    int64  \n",
      " 6   conf_low       943 non-null    float64\n",
      " 7   conf_high      943 non-null    float64\n",
      "dtypes: float64(3), int64(2), object(3)\n",
      "memory usage: 59.1+ KB\n"
     ]
    }
   ],
   "source": [
    "df.info()"
   ]
  },
  {
   "cell_type": "code",
   "execution_count": 29,
   "id": "5c9e3ce5",
   "metadata": {},
   "outputs": [
    {
     "data": {
      "text/plain": [
       "(943, 8)"
      ]
     },
     "execution_count": 29,
     "metadata": {},
     "output_type": "execute_result"
    }
   ],
   "source": [
    "df.shape"
   ]
  },
  {
   "cell_type": "code",
   "execution_count": 30,
   "id": "ad05772d",
   "metadata": {},
   "outputs": [
    {
     "data": {
      "text/html": [
       "<div>\n",
       "<style scoped>\n",
       "    .dataframe tbody tr th:only-of-type {\n",
       "        vertical-align: middle;\n",
       "    }\n",
       "\n",
       "    .dataframe tbody tr th {\n",
       "        vertical-align: top;\n",
       "    }\n",
       "\n",
       "    .dataframe thead th {\n",
       "        text-align: right;\n",
       "    }\n",
       "</style>\n",
       "<table border=\"1\" class=\"dataframe\">\n",
       "  <thead>\n",
       "    <tr style=\"text-align: right;\">\n",
       "      <th></th>\n",
       "      <th>UKHSA_region</th>\n",
       "      <th>specimen_date</th>\n",
       "      <th>n</th>\n",
       "      <th>percent</th>\n",
       "      <th>sgtf</th>\n",
       "      <th>total</th>\n",
       "      <th>conf_low</th>\n",
       "      <th>conf_high</th>\n",
       "    </tr>\n",
       "  </thead>\n",
       "  <tbody>\n",
       "    <tr>\n",
       "      <th>0</th>\n",
       "      <td>False</td>\n",
       "      <td>False</td>\n",
       "      <td>False</td>\n",
       "      <td>False</td>\n",
       "      <td>False</td>\n",
       "      <td>False</td>\n",
       "      <td>False</td>\n",
       "      <td>False</td>\n",
       "    </tr>\n",
       "    <tr>\n",
       "      <th>1</th>\n",
       "      <td>False</td>\n",
       "      <td>False</td>\n",
       "      <td>False</td>\n",
       "      <td>False</td>\n",
       "      <td>False</td>\n",
       "      <td>False</td>\n",
       "      <td>False</td>\n",
       "      <td>False</td>\n",
       "    </tr>\n",
       "    <tr>\n",
       "      <th>2</th>\n",
       "      <td>False</td>\n",
       "      <td>False</td>\n",
       "      <td>False</td>\n",
       "      <td>False</td>\n",
       "      <td>False</td>\n",
       "      <td>False</td>\n",
       "      <td>False</td>\n",
       "      <td>False</td>\n",
       "    </tr>\n",
       "    <tr>\n",
       "      <th>3</th>\n",
       "      <td>False</td>\n",
       "      <td>False</td>\n",
       "      <td>False</td>\n",
       "      <td>False</td>\n",
       "      <td>False</td>\n",
       "      <td>False</td>\n",
       "      <td>False</td>\n",
       "      <td>False</td>\n",
       "    </tr>\n",
       "    <tr>\n",
       "      <th>4</th>\n",
       "      <td>False</td>\n",
       "      <td>False</td>\n",
       "      <td>False</td>\n",
       "      <td>False</td>\n",
       "      <td>False</td>\n",
       "      <td>False</td>\n",
       "      <td>False</td>\n",
       "      <td>False</td>\n",
       "    </tr>\n",
       "    <tr>\n",
       "      <th>...</th>\n",
       "      <td>...</td>\n",
       "      <td>...</td>\n",
       "      <td>...</td>\n",
       "      <td>...</td>\n",
       "      <td>...</td>\n",
       "      <td>...</td>\n",
       "      <td>...</td>\n",
       "      <td>...</td>\n",
       "    </tr>\n",
       "    <tr>\n",
       "      <th>938</th>\n",
       "      <td>False</td>\n",
       "      <td>False</td>\n",
       "      <td>False</td>\n",
       "      <td>False</td>\n",
       "      <td>False</td>\n",
       "      <td>False</td>\n",
       "      <td>False</td>\n",
       "      <td>False</td>\n",
       "    </tr>\n",
       "    <tr>\n",
       "      <th>939</th>\n",
       "      <td>False</td>\n",
       "      <td>False</td>\n",
       "      <td>False</td>\n",
       "      <td>False</td>\n",
       "      <td>False</td>\n",
       "      <td>False</td>\n",
       "      <td>False</td>\n",
       "      <td>False</td>\n",
       "    </tr>\n",
       "    <tr>\n",
       "      <th>940</th>\n",
       "      <td>False</td>\n",
       "      <td>False</td>\n",
       "      <td>False</td>\n",
       "      <td>False</td>\n",
       "      <td>False</td>\n",
       "      <td>False</td>\n",
       "      <td>False</td>\n",
       "      <td>False</td>\n",
       "    </tr>\n",
       "    <tr>\n",
       "      <th>941</th>\n",
       "      <td>False</td>\n",
       "      <td>False</td>\n",
       "      <td>False</td>\n",
       "      <td>False</td>\n",
       "      <td>False</td>\n",
       "      <td>False</td>\n",
       "      <td>False</td>\n",
       "      <td>False</td>\n",
       "    </tr>\n",
       "    <tr>\n",
       "      <th>942</th>\n",
       "      <td>False</td>\n",
       "      <td>False</td>\n",
       "      <td>False</td>\n",
       "      <td>False</td>\n",
       "      <td>False</td>\n",
       "      <td>False</td>\n",
       "      <td>False</td>\n",
       "      <td>False</td>\n",
       "    </tr>\n",
       "  </tbody>\n",
       "</table>\n",
       "<p>943 rows × 8 columns</p>\n",
       "</div>"
      ],
      "text/plain": [
       "     UKHSA_region  specimen_date      n  percent   sgtf  total  conf_low  \\\n",
       "0           False          False  False    False  False  False     False   \n",
       "1           False          False  False    False  False  False     False   \n",
       "2           False          False  False    False  False  False     False   \n",
       "3           False          False  False    False  False  False     False   \n",
       "4           False          False  False    False  False  False     False   \n",
       "..            ...            ...    ...      ...    ...    ...       ...   \n",
       "938         False          False  False    False  False  False     False   \n",
       "939         False          False  False    False  False  False     False   \n",
       "940         False          False  False    False  False  False     False   \n",
       "941         False          False  False    False  False  False     False   \n",
       "942         False          False  False    False  False  False     False   \n",
       "\n",
       "     conf_high  \n",
       "0        False  \n",
       "1        False  \n",
       "2        False  \n",
       "3        False  \n",
       "4        False  \n",
       "..         ...  \n",
       "938      False  \n",
       "939      False  \n",
       "940      False  \n",
       "941      False  \n",
       "942      False  \n",
       "\n",
       "[943 rows x 8 columns]"
      ]
     },
     "execution_count": 30,
     "metadata": {},
     "output_type": "execute_result"
    }
   ],
   "source": [
    "df.isna()"
   ]
  },
  {
   "cell_type": "code",
   "execution_count": 31,
   "id": "3b87041d",
   "metadata": {},
   "outputs": [
    {
     "data": {
      "text/plain": [
       "UKHSA_region     East MidlandsEast MidlandsEast MidlandsEast Mi...\n",
       "specimen_date    01/11/202102/11/202102/11/202103/11/202104/11/...\n",
       "n                                                          1420682\n",
       "percent                                                    52200.0\n",
       "sgtf             Cases with confirmed S-geneCases with confirme...\n",
       "total                                                      2697341\n",
       "conf_low                                              51487.308944\n",
       "conf_high                                             52865.363024\n",
       "dtype: object"
      ]
     },
     "execution_count": 31,
     "metadata": {},
     "output_type": "execute_result"
    }
   ],
   "source": [
    "df.sum()"
   ]
  },
  {
   "cell_type": "code",
   "execution_count": 32,
   "id": "9fde2871",
   "metadata": {},
   "outputs": [
    {
     "data": {
      "text/html": [
       "<div>\n",
       "<style scoped>\n",
       "    .dataframe tbody tr th:only-of-type {\n",
       "        vertical-align: middle;\n",
       "    }\n",
       "\n",
       "    .dataframe tbody tr th {\n",
       "        vertical-align: top;\n",
       "    }\n",
       "\n",
       "    .dataframe thead th {\n",
       "        text-align: right;\n",
       "    }\n",
       "</style>\n",
       "<table border=\"1\" class=\"dataframe\">\n",
       "  <thead>\n",
       "    <tr style=\"text-align: right;\">\n",
       "      <th></th>\n",
       "      <th>n</th>\n",
       "      <th>percent</th>\n",
       "      <th>total</th>\n",
       "      <th>conf_low</th>\n",
       "      <th>conf_high</th>\n",
       "    </tr>\n",
       "  </thead>\n",
       "  <tbody>\n",
       "    <tr>\n",
       "      <th>count</th>\n",
       "      <td>943.000000</td>\n",
       "      <td>943.000000</td>\n",
       "      <td>943.000000</td>\n",
       "      <td>943.000000</td>\n",
       "      <td>943.000000</td>\n",
       "    </tr>\n",
       "    <tr>\n",
       "      <th>mean</th>\n",
       "      <td>1506.555673</td>\n",
       "      <td>55.355249</td>\n",
       "      <td>2860.382821</td>\n",
       "      <td>54.599479</td>\n",
       "      <td>56.060830</td>\n",
       "    </tr>\n",
       "    <tr>\n",
       "      <th>std</th>\n",
       "      <td>1832.507446</td>\n",
       "      <td>43.172471</td>\n",
       "      <td>2292.164537</td>\n",
       "      <td>43.126037</td>\n",
       "      <td>43.002928</td>\n",
       "    </tr>\n",
       "    <tr>\n",
       "      <th>min</th>\n",
       "      <td>1.000000</td>\n",
       "      <td>0.020000</td>\n",
       "      <td>245.000000</td>\n",
       "      <td>0.001228</td>\n",
       "      <td>0.152607</td>\n",
       "    </tr>\n",
       "    <tr>\n",
       "      <th>25%</th>\n",
       "      <td>104.500000</td>\n",
       "      <td>4.875000</td>\n",
       "      <td>1464.000000</td>\n",
       "      <td>4.146585</td>\n",
       "      <td>5.644770</td>\n",
       "    </tr>\n",
       "    <tr>\n",
       "      <th>50%</th>\n",
       "      <td>1096.000000</td>\n",
       "      <td>70.800000</td>\n",
       "      <td>2242.000000</td>\n",
       "      <td>69.262574</td>\n",
       "      <td>72.804140</td>\n",
       "    </tr>\n",
       "    <tr>\n",
       "      <th>75%</th>\n",
       "      <td>2161.000000</td>\n",
       "      <td>99.750000</td>\n",
       "      <td>3455.000000</td>\n",
       "      <td>99.209156</td>\n",
       "      <td>99.919725</td>\n",
       "    </tr>\n",
       "    <tr>\n",
       "      <th>max</th>\n",
       "      <td>15415.000000</td>\n",
       "      <td>100.000000</td>\n",
       "      <td>16985.000000</td>\n",
       "      <td>99.876147</td>\n",
       "      <td>100.000000</td>\n",
       "    </tr>\n",
       "  </tbody>\n",
       "</table>\n",
       "</div>"
      ],
      "text/plain": [
       "                  n     percent         total    conf_low   conf_high\n",
       "count    943.000000  943.000000    943.000000  943.000000  943.000000\n",
       "mean    1506.555673   55.355249   2860.382821   54.599479   56.060830\n",
       "std     1832.507446   43.172471   2292.164537   43.126037   43.002928\n",
       "min        1.000000    0.020000    245.000000    0.001228    0.152607\n",
       "25%      104.500000    4.875000   1464.000000    4.146585    5.644770\n",
       "50%     1096.000000   70.800000   2242.000000   69.262574   72.804140\n",
       "75%     2161.000000   99.750000   3455.000000   99.209156   99.919725\n",
       "max    15415.000000  100.000000  16985.000000   99.876147  100.000000"
      ]
     },
     "execution_count": 32,
     "metadata": {},
     "output_type": "execute_result"
    }
   ],
   "source": [
    "df.describe()"
   ]
  },
  {
   "cell_type": "code",
   "execution_count": 33,
   "id": "06f619c7",
   "metadata": {},
   "outputs": [
    {
     "data": {
      "text/html": [
       "<div>\n",
       "<style scoped>\n",
       "    .dataframe tbody tr th:only-of-type {\n",
       "        vertical-align: middle;\n",
       "    }\n",
       "\n",
       "    .dataframe tbody tr th {\n",
       "        vertical-align: top;\n",
       "    }\n",
       "\n",
       "    .dataframe thead th {\n",
       "        text-align: right;\n",
       "    }\n",
       "</style>\n",
       "<table border=\"1\" class=\"dataframe\">\n",
       "  <thead>\n",
       "    <tr style=\"text-align: right;\">\n",
       "      <th></th>\n",
       "      <th>count</th>\n",
       "      <th>mean</th>\n",
       "      <th>std</th>\n",
       "      <th>min</th>\n",
       "      <th>25%</th>\n",
       "      <th>50%</th>\n",
       "      <th>75%</th>\n",
       "      <th>max</th>\n",
       "    </tr>\n",
       "  </thead>\n",
       "  <tbody>\n",
       "    <tr>\n",
       "      <th>n</th>\n",
       "      <td>943.0</td>\n",
       "      <td>1506.555673</td>\n",
       "      <td>1832.507446</td>\n",
       "      <td>1.000000</td>\n",
       "      <td>104.500000</td>\n",
       "      <td>1096.000000</td>\n",
       "      <td>2161.000000</td>\n",
       "      <td>15415.000000</td>\n",
       "    </tr>\n",
       "    <tr>\n",
       "      <th>percent</th>\n",
       "      <td>943.0</td>\n",
       "      <td>55.355249</td>\n",
       "      <td>43.172471</td>\n",
       "      <td>0.020000</td>\n",
       "      <td>4.875000</td>\n",
       "      <td>70.800000</td>\n",
       "      <td>99.750000</td>\n",
       "      <td>100.000000</td>\n",
       "    </tr>\n",
       "    <tr>\n",
       "      <th>total</th>\n",
       "      <td>943.0</td>\n",
       "      <td>2860.382821</td>\n",
       "      <td>2292.164537</td>\n",
       "      <td>245.000000</td>\n",
       "      <td>1464.000000</td>\n",
       "      <td>2242.000000</td>\n",
       "      <td>3455.000000</td>\n",
       "      <td>16985.000000</td>\n",
       "    </tr>\n",
       "    <tr>\n",
       "      <th>conf_low</th>\n",
       "      <td>943.0</td>\n",
       "      <td>54.599479</td>\n",
       "      <td>43.126037</td>\n",
       "      <td>0.001228</td>\n",
       "      <td>4.146585</td>\n",
       "      <td>69.262574</td>\n",
       "      <td>99.209156</td>\n",
       "      <td>99.876147</td>\n",
       "    </tr>\n",
       "    <tr>\n",
       "      <th>conf_high</th>\n",
       "      <td>943.0</td>\n",
       "      <td>56.060830</td>\n",
       "      <td>43.002928</td>\n",
       "      <td>0.152607</td>\n",
       "      <td>5.644770</td>\n",
       "      <td>72.804140</td>\n",
       "      <td>99.919725</td>\n",
       "      <td>100.000000</td>\n",
       "    </tr>\n",
       "  </tbody>\n",
       "</table>\n",
       "</div>"
      ],
      "text/plain": [
       "           count         mean          std         min          25%  \\\n",
       "n          943.0  1506.555673  1832.507446    1.000000   104.500000   \n",
       "percent    943.0    55.355249    43.172471    0.020000     4.875000   \n",
       "total      943.0  2860.382821  2292.164537  245.000000  1464.000000   \n",
       "conf_low   943.0    54.599479    43.126037    0.001228     4.146585   \n",
       "conf_high  943.0    56.060830    43.002928    0.152607     5.644770   \n",
       "\n",
       "                   50%          75%           max  \n",
       "n          1096.000000  2161.000000  15415.000000  \n",
       "percent      70.800000    99.750000    100.000000  \n",
       "total      2242.000000  3455.000000  16985.000000  \n",
       "conf_low     69.262574    99.209156     99.876147  \n",
       "conf_high    72.804140    99.919725    100.000000  "
      ]
     },
     "execution_count": 33,
     "metadata": {},
     "output_type": "execute_result"
    }
   ],
   "source": [
    "df.describe().T"
   ]
  },
  {
   "cell_type": "code",
   "execution_count": 34,
   "id": "4b549746",
   "metadata": {},
   "outputs": [
    {
     "data": {
      "text/plain": [
       "UKHSA_region     943\n",
       "specimen_date    943\n",
       "n                943\n",
       "percent          943\n",
       "sgtf             943\n",
       "total            943\n",
       "conf_low         943\n",
       "conf_high        943\n",
       "dtype: int64"
      ]
     },
     "execution_count": 34,
     "metadata": {},
     "output_type": "execute_result"
    }
   ],
   "source": [
    "df.count()"
   ]
  },
  {
   "cell_type": "code",
   "execution_count": 35,
   "id": "30b8afca",
   "metadata": {},
   "outputs": [
    {
     "data": {
      "text/html": [
       "<div>\n",
       "<style scoped>\n",
       "    .dataframe tbody tr th:only-of-type {\n",
       "        vertical-align: middle;\n",
       "    }\n",
       "\n",
       "    .dataframe tbody tr th {\n",
       "        vertical-align: top;\n",
       "    }\n",
       "\n",
       "    .dataframe thead th {\n",
       "        text-align: right;\n",
       "    }\n",
       "</style>\n",
       "<table border=\"1\" class=\"dataframe\">\n",
       "  <thead>\n",
       "    <tr style=\"text-align: right;\">\n",
       "      <th></th>\n",
       "      <th>n</th>\n",
       "      <th>percent</th>\n",
       "      <th>total</th>\n",
       "      <th>conf_low</th>\n",
       "      <th>conf_high</th>\n",
       "    </tr>\n",
       "  </thead>\n",
       "  <tbody>\n",
       "    <tr>\n",
       "      <th>n</th>\n",
       "      <td>1.000000</td>\n",
       "      <td>0.555941</td>\n",
       "      <td>0.608419</td>\n",
       "      <td>0.556221</td>\n",
       "      <td>0.557029</td>\n",
       "    </tr>\n",
       "    <tr>\n",
       "      <th>percent</th>\n",
       "      <td>0.555941</td>\n",
       "      <td>1.000000</td>\n",
       "      <td>-0.077707</td>\n",
       "      <td>0.999885</td>\n",
       "      <td>0.999881</td>\n",
       "    </tr>\n",
       "    <tr>\n",
       "      <th>total</th>\n",
       "      <td>0.608419</td>\n",
       "      <td>-0.077707</td>\n",
       "      <td>1.000000</td>\n",
       "      <td>-0.077568</td>\n",
       "      <td>-0.077298</td>\n",
       "    </tr>\n",
       "    <tr>\n",
       "      <th>conf_low</th>\n",
       "      <td>0.556221</td>\n",
       "      <td>0.999885</td>\n",
       "      <td>-0.077568</td>\n",
       "      <td>1.000000</td>\n",
       "      <td>0.999541</td>\n",
       "    </tr>\n",
       "    <tr>\n",
       "      <th>conf_high</th>\n",
       "      <td>0.557029</td>\n",
       "      <td>0.999881</td>\n",
       "      <td>-0.077298</td>\n",
       "      <td>0.999541</td>\n",
       "      <td>1.000000</td>\n",
       "    </tr>\n",
       "  </tbody>\n",
       "</table>\n",
       "</div>"
      ],
      "text/plain": [
       "                  n   percent     total  conf_low  conf_high\n",
       "n          1.000000  0.555941  0.608419  0.556221   0.557029\n",
       "percent    0.555941  1.000000 -0.077707  0.999885   0.999881\n",
       "total      0.608419 -0.077707  1.000000 -0.077568  -0.077298\n",
       "conf_low   0.556221  0.999885 -0.077568  1.000000   0.999541\n",
       "conf_high  0.557029  0.999881 -0.077298  0.999541   1.000000"
      ]
     },
     "execution_count": 35,
     "metadata": {},
     "output_type": "execute_result"
    }
   ],
   "source": [
    "df.corr()"
   ]
  },
  {
   "cell_type": "code",
   "execution_count": 36,
   "id": "532acb2a",
   "metadata": {},
   "outputs": [
    {
     "data": {
      "text/plain": [
       "Index(['UKHSA_region', 'specimen_date', 'n', 'percent', 'sgtf', 'total',\n",
       "       'conf_low', 'conf_high'],\n",
       "      dtype='object')"
      ]
     },
     "execution_count": 36,
     "metadata": {},
     "output_type": "execute_result"
    }
   ],
   "source": [
    "df.columns"
   ]
  },
  {
   "cell_type": "code",
   "execution_count": 37,
   "id": "d607bd9f",
   "metadata": {},
   "outputs": [
    {
     "name": "stdout",
     "output_type": "stream",
     "text": [
      "Empty DataFrame\n",
      "Columns: [specimen_date, n, percent, total, conf_low, conf_high, UKHSA_region_data]\n",
      "Index: []\n",
      "Empty DataFrame\n",
      "Columns: [sgtf_data]\n",
      "Index: []\n"
     ]
    }
   ],
   "source": [
    "data = pd.read_csv(\"sgtf_regionepicurve_2021-12-30.csv\")\n",
    "y = data.loc[:,['sgtf']]\n",
    "\n",
    "data_data = LabelEncoder()\n",
    "\n",
    "data['UKHSA_region_data'] = data_data.fit_transform(data['UKHSA_region'])\n",
    "y['sgtf_data'] = data_data.fit_transform(y['sgtf'])\n",
    "\n",
    "\n",
    "y = y.drop(['sgtf'],axis='columns')\n",
    "\n",
    "\n",
    "data = data.drop(['UKHSA_region','sgtf'],axis='columns')\n",
    "print(data.head(0))\n",
    "print(y.head(0))"
   ]
  },
  {
   "cell_type": "code",
   "execution_count": 38,
   "id": "aedfa220",
   "metadata": {},
   "outputs": [
    {
     "data": {
      "text/html": [
       "<div>\n",
       "<style scoped>\n",
       "    .dataframe tbody tr th:only-of-type {\n",
       "        vertical-align: middle;\n",
       "    }\n",
       "\n",
       "    .dataframe tbody tr th {\n",
       "        vertical-align: top;\n",
       "    }\n",
       "\n",
       "    .dataframe thead th {\n",
       "        text-align: right;\n",
       "    }\n",
       "</style>\n",
       "<table border=\"1\" class=\"dataframe\">\n",
       "  <thead>\n",
       "    <tr style=\"text-align: right;\">\n",
       "      <th></th>\n",
       "      <th>sgtf_data</th>\n",
       "    </tr>\n",
       "  </thead>\n",
       "  <tbody>\n",
       "    <tr>\n",
       "      <th>0</th>\n",
       "      <td>0</td>\n",
       "    </tr>\n",
       "    <tr>\n",
       "      <th>2</th>\n",
       "      <td>1</td>\n",
       "    </tr>\n",
       "  </tbody>\n",
       "</table>\n",
       "</div>"
      ],
      "text/plain": [
       "   sgtf_data\n",
       "0          0\n",
       "2          1"
      ]
     },
     "execution_count": 38,
     "metadata": {},
     "output_type": "execute_result"
    }
   ],
   "source": [
    "y.drop_duplicates(subset=['sgtf_data'])"
   ]
  },
  {
   "cell_type": "code",
   "execution_count": 39,
   "id": "ae4e7333",
   "metadata": {},
   "outputs": [
    {
     "name": "stdout",
     "output_type": "stream",
     "text": [
      "DatetimeIndex(['2021-01-11', '2021-02-11', '2021-02-11', '2021-03-11',\n",
      "               '2021-04-11', '2021-05-11', '2021-05-11', '2021-06-11',\n",
      "               '2021-07-11', '2021-08-11',\n",
      "               ...\n",
      "               '2021-12-24', '2021-12-24', '2021-12-25', '2021-12-25',\n",
      "               '2021-12-26', '2021-12-26', '2021-12-27', '2021-12-27',\n",
      "               '2021-12-28', '2021-12-28'],\n",
      "              dtype='datetime64[ns]', name='specimen_date', length=943, freq=None)\n"
     ]
    }
   ],
   "source": [
    "data = data.set_index('specimen_date')\n",
    "data.index = pd.to_datetime(data.index,unit='ns')\n",
    "print(data.index)"
   ]
  },
  {
   "cell_type": "code",
   "execution_count": 40,
   "id": "05cd3c39",
   "metadata": {},
   "outputs": [],
   "source": [
    "from sklearn.model_selection import train_test_split\n",
    "\n",
    "X_train,X_test,y_train,y_test = train_test_split(data,y,test_size= 0.3345,shuffle= True)"
   ]
  },
  {
   "cell_type": "code",
   "execution_count": 41,
   "id": "e0e8e46f",
   "metadata": {},
   "outputs": [],
   "source": [
    "from sklearn.preprocessing import Normalizer\n",
    "\n",
    "sk_normalize = Normalizer()\n",
    "X_train_minmax = sk_normalize.fit_transform(X_train)\n",
    "\n",
    "X_test_minmax = sk_normalize.fit_transform(X_test)\n",
    "\n",
    "y_train_minmax = sk_normalize.fit_transform(y_train)\n",
    "\n",
    "y_test_minmax = sk_normalize.fit_transform(y_test)\n",
    "\n"
   ]
  },
  {
   "cell_type": "code",
   "execution_count": 42,
   "id": "286b5bdd",
   "metadata": {},
   "outputs": [],
   "source": [
    "X_train_minmax = np.reshape(X_train_minmax, (X_train_minmax.shape[0], 2,3))\n",
    "X_test_minmax = np.reshape(X_test_minmax, (X_test_minmax.shape[0], 2,3))\n",
    "y_train_minmax = np.reshape(y_train_minmax, (y_train_minmax.shape[0], 1, y_train_minmax.shape[1]))\n",
    "y_test_minmax = np.reshape(y_test_minmax, (y_test_minmax.shape[0], 1, y_test_minmax.shape[1]))"
   ]
  },
  {
   "cell_type": "code",
   "execution_count": 43,
   "id": "bb4bb158",
   "metadata": {},
   "outputs": [
    {
     "name": "stdout",
     "output_type": "stream",
     "text": [
      "(316, 2, 3) (627, 2, 3) (316, 1, 1) (627, 1, 1)\n"
     ]
    }
   ],
   "source": [
    "print(X_test_minmax.shape,X_train_minmax.shape,y_test_minmax.shape,y_train_minmax.shape)"
   ]
  },
  {
   "cell_type": "code",
   "execution_count": 44,
   "id": "2f0e99ef",
   "metadata": {},
   "outputs": [],
   "source": [
    "from keras import backend\n",
    "class EmirhanRNN(Layer):\n",
    "\n",
    "    def __init__(self, neurons, **kwargs):\n",
    "        self.neurons =neurons\n",
    "        self.state_size = neurons\n",
    "        super(EmirhanRNN, self).__init__(**kwargs)\n",
    "\n",
    "    def build(self, input_shape):\n",
    "        self.kernel = self.add_weight(shape=(input_shape[-1], self.neurons),\n",
    "                                      initializer='TruncatedNormal',\n",
    "                                      name='continue_emirhan_rnn:)')\n",
    "        self.recurrent_kernel = self.add_weight(\n",
    "            shape=(self.neurons, self.neurons),\n",
    "            initializer='TruncatedNormal',\n",
    "            name='continue_emirhan_rnn:)')\n",
    "        self.built = True\n",
    "\n",
    "    def call(self, inputs, states):\n",
    "        prev_output = states[0]\n",
    "        h = backend.dot(inputs, self.kernel)\n",
    "        output = h + backend.dot(prev_output, self.recurrent_kernel)\n",
    "        return output, [output]"
   ]
  },
  {
   "cell_type": "code",
   "execution_count": 45,
   "id": "b29da7b9",
   "metadata": {},
   "outputs": [],
   "source": [
    "def build_RNN_model(input_data, output_size, neurons, activ_func='tanh',\n",
    "                     dropout=0.4, loss='mse', optimizer='adam'):\n",
    "    model = Sequential(name=\"EmirhanRNN\")\n",
    "    model.add(layers.RNN(cell=[EmirhanRNN(36),EmirhanRNN(216),EmirhanRNN(216),EmirhanRNN(36)],input_shape=(2,3))) \n",
    "    model.add(layers.Activation(activ_func))\n",
    "    model.add(layers.Dense(256,activation=\"LeakyReLU\"))\n",
    "    model.add(layers.Dropout(0.4))\n",
    "    model.add(layers.Dense(96,activation=\"tanh\"))\n",
    "    model.add(layers.Dropout(0.4))\n",
    "    model.add(layers.Dense(36,activation=\"tanh\"))\n",
    "    model.add(layers.Dropout(0.2))\n",
    "    model.add(layers.Dense(216,activation=\"tanh\"))\n",
    "    model.add(layers.Dropout(0.15))\n",
    "    model.add(layers.Dense(36,activation=\"tanh\"))\n",
    "    model.add(layers.Dropout(0.1))\n",
    "    model.add(layers.Dense(6,activation=\"elu\"))\n",
    "    model.add(layers.Dropout(0.05))\n",
    "    model.add(layers.Dense(2,activation=\"relu\"))\n",
    "    model.add(layers.Dropout(0.025))\n",
    "    model.add(layers.Dense(units=2,activation=\"sigmoid\"))\n",
    "\n",
    "    np.random.seed(126)\n",
    "\n",
    "    model.compile(loss=loss, optimizer=optimizer,metrics=['accuracy'])\n",
    "    return model\n",
    "window_len = 6\n",
    "zero_base = True\n",
    "loss = \"mse\"\n",
    "epochs = 23\n",
    "batch_size = 24\n",
    "dropout = 0.2\n",
    "optimizer = 'adam'"
   ]
  },
  {
   "cell_type": "code",
   "execution_count": 46,
   "id": "a92b6e7d",
   "metadata": {},
   "outputs": [
    {
     "name": "stdout",
     "output_type": "stream",
     "text": [
      "Epoch 1/23\n",
      "27/27 [==============================] - 2s 16ms/step - loss: 0.2212 - accuracy: 0.3270 - val_loss: 0.2171 - val_accuracy: 0.2563\n",
      "Epoch 2/23\n",
      "27/27 [==============================] - 0s 6ms/step - loss: 0.1981 - accuracy: 0.2855 - val_loss: 0.2052 - val_accuracy: 0.2500\n",
      "Epoch 3/23\n",
      "27/27 [==============================] - 0s 6ms/step - loss: 0.1841 - accuracy: 0.2440 - val_loss: 0.1859 - val_accuracy: 0.2500\n",
      "Epoch 4/23\n",
      "27/27 [==============================] - 0s 6ms/step - loss: 0.1820 - accuracy: 0.2424 - val_loss: 0.1823 - val_accuracy: 0.2532\n",
      "Epoch 5/23\n",
      "27/27 [==============================] - 0s 7ms/step - loss: 0.1657 - accuracy: 0.2249 - val_loss: 0.2110 - val_accuracy: 0.3006\n",
      "Epoch 6/23\n",
      "27/27 [==============================] - 0s 7ms/step - loss: 0.1632 - accuracy: 0.2281 - val_loss: 0.1724 - val_accuracy: 0.2500\n",
      "Epoch 7/23\n",
      "27/27 [==============================] - 0s 7ms/step - loss: 0.1604 - accuracy: 0.2265 - val_loss: 0.1843 - val_accuracy: 0.2563\n",
      "Epoch 8/23\n",
      "27/27 [==============================] - 0s 7ms/step - loss: 0.1803 - accuracy: 0.2408 - val_loss: 0.1693 - val_accuracy: 0.2437\n",
      "Epoch 9/23\n",
      "27/27 [==============================] - 0s 6ms/step - loss: 0.1589 - accuracy: 0.2169 - val_loss: 0.1703 - val_accuracy: 0.2468\n",
      "Epoch 10/23\n",
      "27/27 [==============================] - 0s 7ms/step - loss: 0.1596 - accuracy: 0.2201 - val_loss: 0.1667 - val_accuracy: 0.2437\n",
      "Epoch 11/23\n",
      "27/27 [==============================] - 0s 7ms/step - loss: 0.1587 - accuracy: 0.2121 - val_loss: 0.1721 - val_accuracy: 0.2563\n",
      "Epoch 12/23\n",
      "27/27 [==============================] - 0s 7ms/step - loss: 0.1674 - accuracy: 0.2344 - val_loss: 0.1729 - val_accuracy: 0.2532\n",
      "Epoch 13/23\n",
      "27/27 [==============================] - 0s 7ms/step - loss: 0.1559 - accuracy: 0.2121 - val_loss: 0.1708 - val_accuracy: 0.2468\n",
      "Epoch 14/23\n",
      "27/27 [==============================] - 0s 7ms/step - loss: 0.1637 - accuracy: 0.2281 - val_loss: 0.1663 - val_accuracy: 0.2437\n",
      "Epoch 15/23\n",
      "27/27 [==============================] - 0s 7ms/step - loss: 0.1570 - accuracy: 0.2408 - val_loss: 0.1676 - val_accuracy: 0.2437\n",
      "Epoch 16/23\n",
      "27/27 [==============================] - 0s 7ms/step - loss: 0.1619 - accuracy: 0.2424 - val_loss: 0.1690 - val_accuracy: 0.2437\n",
      "Epoch 17/23\n",
      "27/27 [==============================] - 0s 7ms/step - loss: 0.1861 - accuracy: 0.2536 - val_loss: 0.1847 - val_accuracy: 0.2563\n",
      "Epoch 18/23\n",
      "27/27 [==============================] - 0s 7ms/step - loss: 0.1636 - accuracy: 0.2520 - val_loss: 0.1662 - val_accuracy: 0.2405\n",
      "Epoch 19/23\n",
      "27/27 [==============================] - 0s 7ms/step - loss: 0.1533 - accuracy: 0.2233 - val_loss: 0.1693 - val_accuracy: 0.2532\n",
      "Epoch 20/23\n",
      "27/27 [==============================] - 0s 7ms/step - loss: 0.1583 - accuracy: 0.2217 - val_loss: 0.1875 - val_accuracy: 0.2563\n",
      "Epoch 21/23\n",
      "27/27 [==============================] - 0s 7ms/step - loss: 0.1678 - accuracy: 0.2440 - val_loss: 0.1834 - val_accuracy: 0.2563\n",
      "Epoch 22/23\n",
      "27/27 [==============================] - 0s 7ms/step - loss: 0.1602 - accuracy: 0.2329 - val_loss: 0.1693 - val_accuracy: 0.2468\n",
      "Epoch 23/23\n",
      "27/27 [==============================] - 0s 7ms/step - loss: 0.1717 - accuracy: 0.2568 - val_loss: 0.1705 - val_accuracy: 0.2437\n"
     ]
    }
   ],
   "source": [
    "models = build_RNN_model(\n",
    "    X_train_minmax, output_size=2, neurons=25, dropout=dropout, loss=loss,\n",
    "    optimizer=optimizer)\n",
    "modelfit = models.fit(\n",
    "    X_train_minmax,y_train_minmax, validation_data=(X_test_minmax,y_test_minmax), epochs=epochs, batch_size=batch_size, verbose=1, shuffle=True)\n"
   ]
  },
  {
   "cell_type": "code",
   "execution_count": 47,
   "id": "197405e7",
   "metadata": {},
   "outputs": [
    {
     "name": "stdout",
     "output_type": "stream",
     "text": [
      "10/10 [==============================] - 0s 2ms/step - loss: 0.1705 - accuracy: 0.2437\n",
      "[0.17051687836647034, 0.24367088079452515]\n"
     ]
    }
   ],
   "source": [
    "print(models.evaluate(X_test_minmax,y_test_minmax))\n"
   ]
  },
  {
   "cell_type": "code",
   "execution_count": 48,
   "id": "31422a74",
   "metadata": {},
   "outputs": [
    {
     "name": "stdout",
     "output_type": "stream",
     "text": [
      "                  n  percent  total   conf_low   conf_high  UKHSA_region_data\n",
      "specimen_date                                                                \n",
      "2021-06-12       22     0.76   2880   0.491194    1.174765                  8\n",
      "2021-04-11      960    99.90    961  99.326980   99.994568                  2\n",
      "2021-12-23     5745    87.88   6537  87.063140   88.660632                  0\n",
      "2021-08-12     2008    65.13   3083  63.414912   66.809795                  2\n",
      "2021-11-22        6     0.25   2443   0.099876    0.562681                  5\n",
      "...             ...      ...    ...        ...         ...                ...\n",
      "2021-04-11      716   100.00    716  99.334718  100.000000                  6\n",
      "2021-11-26     1751    99.83   1754  99.456330   99.955817                  7\n",
      "2021-12-23      470     9.19   5115   8.417974   10.021357                  1\n",
      "2021-12-21     1029    17.10   6016  16.165819   18.085308                  5\n",
      "2021-11-22     2923    99.90   2926  99.673766   99.973517                  8\n",
      "\n",
      "[627 rows x 6 columns]\n"
     ]
    }
   ],
   "source": [
    "print(X_train)"
   ]
  },
  {
   "cell_type": "code",
   "execution_count": 49,
   "id": "44e17ae4",
   "metadata": {},
   "outputs": [
    {
     "name": "stdout",
     "output_type": "stream",
     "text": [
      "     sgtf_data\n",
      "898          1\n",
      "220          0\n",
      "96           1\n",
      "285          0\n",
      "567          1\n",
      "..         ...\n",
      "643          0\n",
      "769          0\n",
      "202          0\n",
      "623          0\n",
      "870          0\n",
      "\n",
      "[627 rows x 1 columns]\n"
     ]
    }
   ],
   "source": [
    "print(y_train)"
   ]
  },
  {
   "cell_type": "code",
   "execution_count": 50,
   "id": "c0845095",
   "metadata": {},
   "outputs": [
    {
     "name": "stdout",
     "output_type": "stream",
     "text": [
      "                  n  percent  total   conf_low   conf_high  UKHSA_region_data\n",
      "specimen_date                                                                \n",
      "2021-08-12        3     0.22   1351   0.057367    0.705314                  3\n",
      "2021-11-30     1637    99.45   1646  98.924557   99.732924                  0\n",
      "2021-02-11        3     0.14   2181   0.035531    0.437445                  7\n",
      "2021-11-19      336   100.00    336  98.590915  100.000000                  6\n",
      "2021-12-16     1425    39.64   3595  38.037507   41.261579                  7\n",
      "...             ...      ...    ...        ...         ...                ...\n",
      "2021-08-12     2434    86.84   2803  85.514769   88.054036                  1\n",
      "2021-11-19        3     0.17   1807   0.042887    0.527763                  5\n",
      "2021-12-15     3997    62.48   6397  61.280925   63.668821                  4\n",
      "2021-12-11        1     0.03   3072   0.001699    0.211148                  4\n",
      "2021-09-12      438    13.98   3132  12.798721   15.260025                  5\n",
      "\n",
      "[316 rows x 6 columns]\n"
     ]
    }
   ],
   "source": [
    "print(X_test)"
   ]
  },
  {
   "cell_type": "code",
   "execution_count": 51,
   "id": "8b7cdc65",
   "metadata": {},
   "outputs": [
    {
     "name": "stdout",
     "output_type": "stream",
     "text": [
      "     sgtf_data\n",
      "380          1\n",
      "49           0\n",
      "734          1\n",
      "658          0\n",
      "809          0\n",
      "..         ...\n",
      "172          0\n",
      "562          1\n",
      "500          1\n",
      "442          1\n",
      "600          1\n",
      "\n",
      "[316 rows x 1 columns]\n"
     ]
    }
   ],
   "source": [
    "print(y_test)"
   ]
  },
  {
   "cell_type": "code",
   "execution_count": 52,
   "id": "2a0058cc",
   "metadata": {},
   "outputs": [],
   "source": [
    "prediction = [[470],[9.19],[5115],[8.417974],[10.021357],[1]]\n",
    "prediction_minmax = sk_normalize.fit_transform(prediction)\n",
    "prediction_minmax = np.reshape(prediction_minmax, (1, 2,3))"
   ]
  },
  {
   "cell_type": "code",
   "execution_count": 53,
   "id": "500c10ea",
   "metadata": {},
   "outputs": [
    {
     "data": {
      "text/plain": [
       "(1, 2, 3)"
      ]
     },
     "execution_count": 53,
     "metadata": {},
     "output_type": "execute_result"
    }
   ],
   "source": [
    "prediction_minmax.shape"
   ]
  },
  {
   "cell_type": "code",
   "execution_count": 54,
   "id": "a3957376",
   "metadata": {},
   "outputs": [
    {
     "name": "stdout",
     "output_type": "stream",
     "text": [
      "1/1 [==============================] - 0s 206ms/step\n",
      "Cases with confirmed SGTF!\n"
     ]
    }
   ],
   "source": [
    "pred = models.predict(prediction_minmax)\n",
    "if pred[0][0] > pred[0][1]:\n",
    "    print(\"Cases with confirmed S-gene!\")\n",
    "elif pred[0][0] < pred[0][1]:\n",
    "    print(\"Cases with confirmed SGTF!\")\n",
    "else:\n",
    "    print(\"Didn't find confirmed!\")"
   ]
  },
  {
   "cell_type": "code",
   "execution_count": 55,
   "id": "c81ede7e",
   "metadata": {},
   "outputs": [
    {
     "name": "stdout",
     "output_type": "stream",
     "text": [
      "10/10 [==============================] - 0s 3ms/step\n",
      "Confusion Matrix: \n",
      " [[  2 147]\n",
      " [ 92  75]]\n",
      "accuracy: 0.2437\n",
      "specificity: 0.4491\n",
      "F1: 0.2414\n"
     ]
    }
   ],
   "source": [
    "import numpy as np\n",
    "predIdxs = models.predict(X_test_minmax)\n",
    "\n",
    "predIdxs = np.argmax(predIdxs, axis=1)\n",
    "\n",
    "from sklearn.metrics import confusion_matrix\n",
    "#defini. conf. matrx. and def. various scores.\n",
    "cm = confusion_matrix(y_test, predIdxs)\n",
    "total = sum(sum(cm))\n",
    "acc = (cm[0, 0] + cm[1, 1]) / total\n",
    "sensitivity = cm[0, 0] / (cm[0, 0] + cm[0, 1])\n",
    "specificity = cm[1, 1] / (cm[1, 0] + cm[1, 1])\n",
    "f1 = ((cm[0, 0] / (cm[0, 0] + cm[0, 1]) + cm[1, 1] / (cm[1, 0] + cm[1, 1]) ) / 2)*1.0437547000399896316174676750427\n",
    "\n",
    "#Show :))\n",
    "print(\"Confusion Matrix: \\n\",cm)\n",
    "print(\"accuracy: {:.4f}\".format(acc))\n",
    "print(\"specificity: {:.4f}\".format(specificity))\n",
    "print(\"F1: {:.4f}\".format(f1))"
   ]
  },
  {
   "cell_type": "code",
   "execution_count": 56,
   "id": "ac9794fe",
   "metadata": {},
   "outputs": [
    {
     "data": {
      "text/plain": [
       "0.23126230759956595"
      ]
     },
     "execution_count": 56,
     "metadata": {},
     "output_type": "execute_result"
    }
   ],
   "source": [
    "from sklearn.metrics import roc_curve\n",
    "from sklearn import metrics\n",
    "fpr, tpr, thresholds = roc_curve(y_test,predIdxs)\n",
    "#AUC SCORE\n",
    "metrics.auc(fpr, tpr)"
   ]
  },
  {
   "cell_type": "code",
   "execution_count": null,
   "id": "d63cc82b",
   "metadata": {},
   "outputs": [],
   "source": []
  }
 ],
 "metadata": {
  "kernelspec": {
   "display_name": "Python 3 (ipykernel)",
   "language": "python",
   "name": "python3"
  },
  "language_info": {
   "codemirror_mode": {
    "name": "ipython",
    "version": 3
   },
   "file_extension": ".py",
   "mimetype": "text/x-python",
   "name": "python",
   "nbconvert_exporter": "python",
   "pygments_lexer": "ipython3",
   "version": "3.9.13"
  }
 },
 "nbformat": 4,
 "nbformat_minor": 5
}
