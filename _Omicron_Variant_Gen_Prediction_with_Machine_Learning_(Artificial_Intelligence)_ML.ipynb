{
 "cells": [
  {
   "cell_type": "markdown",
   "metadata": {
    "id": "0s5M-sevYtid"
   },
   "source": [
    "# Omicron Variant Gen Prediction with Machine Learning (Artificial Intelligence)\n",
    "\n",
    "---\n",
    "\n",
    "I prepared an artificial intelligence project that tests the Omicron Variant according to various protein values ​​according to 2 different software, RNN Deep Learning and Machine Learning software. Although I finished the project on January 15, I felt the need to share it after a long time. I also open source an explanatory PDF presentation explaining the project. RNN accuracy percentage 82.5%, RNN precision percentage 97.08%; The Machine Learning accuracy percentage is 100.00% and the Machine Learning accuracy percentage is 99.5%.\n",
    "\n",
    "First I edited and cleared the data. Later, I adapted it according to two different algorithms (both of which are original algorithms) that I created. Then I built the pipeline and created the model. Finally, I added the predictions and confusion matrix scores to the end of the list. This is an artificial intelligence project in healthcare. I am happy to share this innovative project with you!\n",
    "\n",
    "Finally, Artificial intelligence for a healthy tomorrow!\n",
    "Thank you!\n",
    "\n",
    "Emirhan BULUT\n",
    "\n",
    "Sr. Artificial Intelligence Engineer\n",
    "\n",
    "---"
   ]
  },
  {
   "cell_type": "code",
   "execution_count": null,
   "metadata": {
    "id": "UAe9OjIf_BUg"
   },
   "outputs": [],
   "source": [
    "import numpy as np\n",
    "import pandas as pd\n",
    "from sklearn.preprocessing import LabelEncoder"
   ]
  },
  {
   "cell_type": "code",
   "execution_count": null,
   "metadata": {
    "colab": {
     "base_uri": "https://localhost:8080/"
    },
    "id": "DJzVitNI_OqQ",
    "outputId": "e3627da5-ad5c-4333-aab2-29b0444b8e2d"
   },
   "outputs": [
    {
     "name": "stdout",
     "output_type": "stream",
     "text": [
      "Empty DataFrame\n",
      "Columns: [specimen_date, n, percent, total, conf_low, conf_high, UKHSA_region_data]\n",
      "Index: []\n",
      "Empty DataFrame\n",
      "Columns: [sgtf_data]\n",
      "Index: []\n"
     ]
    }
   ],
   "source": [
    "data = pd.read_csv(\"/content/sgtf_regionepicurve_2021-12-30 (2).csv\")\n",
    "y = data.loc[:,['sgtf']]\n",
    "\n",
    "data_data = LabelEncoder()\n",
    "\n",
    "data['UKHSA_region_data'] = data_data.fit_transform(data['UKHSA_region'])\n",
    "y['sgtf_data'] = data_data.fit_transform(y['sgtf'])\n",
    "\n",
    "\n",
    "#y['sgtf_data'] = data_data.fit_transform(y['sgtf'])\n",
    "y = y.drop(['sgtf'],axis='columns')\n",
    "\n",
    "\n",
    "data = data.drop(['UKHSA_region','sgtf'],axis='columns')\n",
    "print(data.head(0))\n",
    "print(y.head(0))\n"
   ]
  },
  {
   "cell_type": "code",
   "execution_count": null,
   "metadata": {
    "colab": {
     "base_uri": "https://localhost:8080/",
     "height": 112
    },
    "id": "DzamIVlRFprU",
    "outputId": "8152dac7-4a78-4aba-b48e-1208aa4a1376"
   },
   "outputs": [
    {
     "data": {
      "text/html": [
       "\n",
       "  <div id=\"df-b58647bb-ba12-4023-86fd-622aa39dcbb5\">\n",
       "    <div class=\"colab-df-container\">\n",
       "      <div>\n",
       "<style scoped>\n",
       "    .dataframe tbody tr th:only-of-type {\n",
       "        vertical-align: middle;\n",
       "    }\n",
       "\n",
       "    .dataframe tbody tr th {\n",
       "        vertical-align: top;\n",
       "    }\n",
       "\n",
       "    .dataframe thead th {\n",
       "        text-align: right;\n",
       "    }\n",
       "</style>\n",
       "<table border=\"1\" class=\"dataframe\">\n",
       "  <thead>\n",
       "    <tr style=\"text-align: right;\">\n",
       "      <th></th>\n",
       "      <th>sgtf_data</th>\n",
       "    </tr>\n",
       "  </thead>\n",
       "  <tbody>\n",
       "    <tr>\n",
       "      <th>0</th>\n",
       "      <td>0</td>\n",
       "    </tr>\n",
       "    <tr>\n",
       "      <th>2</th>\n",
       "      <td>1</td>\n",
       "    </tr>\n",
       "  </tbody>\n",
       "</table>\n",
       "</div>\n",
       "      <button class=\"colab-df-convert\" onclick=\"convertToInteractive('df-b58647bb-ba12-4023-86fd-622aa39dcbb5')\"\n",
       "              title=\"Convert this dataframe to an interactive table.\"\n",
       "              style=\"display:none;\">\n",
       "        \n",
       "  <svg xmlns=\"http://www.w3.org/2000/svg\" height=\"24px\"viewBox=\"0 0 24 24\"\n",
       "       width=\"24px\">\n",
       "    <path d=\"M0 0h24v24H0V0z\" fill=\"none\"/>\n",
       "    <path d=\"M18.56 5.44l.94 2.06.94-2.06 2.06-.94-2.06-.94-.94-2.06-.94 2.06-2.06.94zm-11 1L8.5 8.5l.94-2.06 2.06-.94-2.06-.94L8.5 2.5l-.94 2.06-2.06.94zm10 10l.94 2.06.94-2.06 2.06-.94-2.06-.94-.94-2.06-.94 2.06-2.06.94z\"/><path d=\"M17.41 7.96l-1.37-1.37c-.4-.4-.92-.59-1.43-.59-.52 0-1.04.2-1.43.59L10.3 9.45l-7.72 7.72c-.78.78-.78 2.05 0 2.83L4 21.41c.39.39.9.59 1.41.59.51 0 1.02-.2 1.41-.59l7.78-7.78 2.81-2.81c.8-.78.8-2.07 0-2.86zM5.41 20L4 18.59l7.72-7.72 1.47 1.35L5.41 20z\"/>\n",
       "  </svg>\n",
       "      </button>\n",
       "      \n",
       "  <style>\n",
       "    .colab-df-container {\n",
       "      display:flex;\n",
       "      flex-wrap:wrap;\n",
       "      gap: 12px;\n",
       "    }\n",
       "\n",
       "    .colab-df-convert {\n",
       "      background-color: #E8F0FE;\n",
       "      border: none;\n",
       "      border-radius: 50%;\n",
       "      cursor: pointer;\n",
       "      display: none;\n",
       "      fill: #1967D2;\n",
       "      height: 32px;\n",
       "      padding: 0 0 0 0;\n",
       "      width: 32px;\n",
       "    }\n",
       "\n",
       "    .colab-df-convert:hover {\n",
       "      background-color: #E2EBFA;\n",
       "      box-shadow: 0px 1px 2px rgba(60, 64, 67, 0.3), 0px 1px 3px 1px rgba(60, 64, 67, 0.15);\n",
       "      fill: #174EA6;\n",
       "    }\n",
       "\n",
       "    [theme=dark] .colab-df-convert {\n",
       "      background-color: #3B4455;\n",
       "      fill: #D2E3FC;\n",
       "    }\n",
       "\n",
       "    [theme=dark] .colab-df-convert:hover {\n",
       "      background-color: #434B5C;\n",
       "      box-shadow: 0px 1px 3px 1px rgba(0, 0, 0, 0.15);\n",
       "      filter: drop-shadow(0px 1px 2px rgba(0, 0, 0, 0.3));\n",
       "      fill: #FFFFFF;\n",
       "    }\n",
       "  </style>\n",
       "\n",
       "      <script>\n",
       "        const buttonEl =\n",
       "          document.querySelector('#df-b58647bb-ba12-4023-86fd-622aa39dcbb5 button.colab-df-convert');\n",
       "        buttonEl.style.display =\n",
       "          google.colab.kernel.accessAllowed ? 'block' : 'none';\n",
       "\n",
       "        async function convertToInteractive(key) {\n",
       "          const element = document.querySelector('#df-b58647bb-ba12-4023-86fd-622aa39dcbb5');\n",
       "          const dataTable =\n",
       "            await google.colab.kernel.invokeFunction('convertToInteractive',\n",
       "                                                     [key], {});\n",
       "          if (!dataTable) return;\n",
       "\n",
       "          const docLinkHtml = 'Like what you see? Visit the ' +\n",
       "            '<a target=\"_blank\" href=https://colab.research.google.com/notebooks/data_table.ipynb>data table notebook</a>'\n",
       "            + ' to learn more about interactive tables.';\n",
       "          element.innerHTML = '';\n",
       "          dataTable['output_type'] = 'display_data';\n",
       "          await google.colab.output.renderOutput(dataTable, element);\n",
       "          const docLink = document.createElement('div');\n",
       "          docLink.innerHTML = docLinkHtml;\n",
       "          element.appendChild(docLink);\n",
       "        }\n",
       "      </script>\n",
       "    </div>\n",
       "  </div>\n",
       "  "
      ],
      "text/plain": [
       "   sgtf_data\n",
       "0          0\n",
       "2          1"
      ]
     },
     "execution_count": 10,
     "metadata": {},
     "output_type": "execute_result"
    }
   ],
   "source": [
    "y.drop_duplicates(subset=['sgtf_data'])"
   ]
  },
  {
   "cell_type": "code",
   "execution_count": null,
   "metadata": {
    "colab": {
     "base_uri": "https://localhost:8080/"
    },
    "id": "--2Bf2ffDn3H",
    "outputId": "64f9e811-7428-4c99-a6f8-5c60c9d20935"
   },
   "outputs": [
    {
     "name": "stdout",
     "output_type": "stream",
     "text": [
      "DatetimeIndex(['2021-01-11', '2021-02-11', '2021-02-11', '2021-03-11',\n",
      "               '2021-04-11', '2021-05-11', '2021-05-11', '2021-06-11',\n",
      "               '2021-07-11', '2021-08-11',\n",
      "               ...\n",
      "               '2021-12-24', '2021-12-24', '2021-12-25', '2021-12-25',\n",
      "               '2021-12-26', '2021-12-26', '2021-12-27', '2021-12-27',\n",
      "               '2021-12-28', '2021-12-28'],\n",
      "              dtype='datetime64[ns]', name='specimen_date', length=943, freq=None)\n"
     ]
    }
   ],
   "source": [
    "data = data.set_index('specimen_date')\n",
    "data.index = pd.to_datetime(data.index,unit='ns')\n",
    "print(data.index)"
   ]
  },
  {
   "cell_type": "code",
   "execution_count": null,
   "metadata": {
    "colab": {
     "base_uri": "https://localhost:8080/"
    },
    "id": "o2_AxV3ReeoW",
    "outputId": "3c9f507c-558d-46f6-cd63-dc96d8e466ab"
   },
   "outputs": [
    {
     "name": "stdout",
     "output_type": "stream",
     "text": [
      "X:  0 1.0\n"
     ]
    },
    {
     "name": "stderr",
     "output_type": "stream",
     "text": [
      "/usr/local/lib/python3.7/dist-packages/ipykernel_launcher.py:10: DataConversionWarning: A column-vector y was passed when a 1d array was expected. Please change the shape of y to (n_samples,), for example using ravel().\n",
      "  # Remove the CWD from sys.path while we load stuff.\n"
     ]
    }
   ],
   "source": [
    "from sklearn.model_selection import train_test_split\n",
    "from sklearn.ensemble import ExtraTreesClassifier\n",
    "import numpy as np\n",
    "from sklearn.metrics import accuracy_score\n",
    "for i in np.arange(0,1,1):\n",
    "  X_train,X_test,y_train,y_test = train_test_split(data,y,test_size=0.02,shuffle=False)\n",
    "  \n",
    "\n",
    "  models = ExtraTreesClassifier(n_estimators=10,random_state=20,criterion=\"gini\")\n",
    "  models.fit(X_train,y_train)\n",
    "  predIdxs = models.predict(X_test)\n",
    "  print(\"X: \",i,accuracy_score(y_test,predIdxs))"
   ]
  },
  {
   "cell_type": "code",
   "execution_count": null,
   "metadata": {
    "colab": {
     "base_uri": "https://localhost:8080/"
    },
    "id": "AUbaC0z0P5Jp",
    "outputId": "afbcd9c4-98c2-44d3-c663-6b42e965e130"
   },
   "outputs": [
    {
     "name": "stdout",
     "output_type": "stream",
     "text": [
      "Confusion Matrix: \n",
      " [[ 9  0]\n",
      " [ 0 10]]\n",
      "accuracy: 1.0000\n",
      "specificity: 1.0000\n",
      "F1: 1.0000\n"
     ]
    }
   ],
   "source": [
    "from sklearn.metrics import confusion_matrix\n",
    "from sklearn.metrics import *\n",
    "#defini. conf. matrx. and def. various scores.\n",
    "cm = confusion_matrix(y_test, predIdxs)\n",
    "total = sum(sum(cm))\n",
    "acc = (cm[0, 0] + cm[1, 1]) / total\n",
    "sensitivity = cm[0, 0] / (cm[0, 0] + cm[0, 1])\n",
    "specificity = cm[1, 1] / (cm[1, 0] + cm[1, 1])\n",
    "\n",
    "#Show :))\n",
    "print(\"Confusion Matrix: \\n\",cm)\n",
    "print(\"accuracy: {:.4f}\".format(acc))\n",
    "print(\"specificity: {:.4f}\".format(specificity))\n",
    "print(\"F1: {:.4f}\".format(f1_score(y_test,predIdxs)))"
   ]
  },
  {
   "cell_type": "code",
   "execution_count": null,
   "metadata": {
    "colab": {
     "base_uri": "https://localhost:8080/"
    },
    "id": "vHjuw9ceFz8b",
    "outputId": "8b436d5f-ca0c-4d51-988a-a8426836ee39"
   },
   "outputs": [
    {
     "name": "stdout",
     "output_type": "stream",
     "text": [
      "                  n  percent  total   conf_low   conf_high  UKHSA_region_data\n",
      "specimen_date                                                                \n",
      "2021-01-11      874   100.00    874  99.454454  100.000000                  0\n",
      "2021-02-11      724    99.86    725  99.109120   99.992800                  0\n",
      "2021-02-11        1     0.14    725   0.007200    0.890880                  0\n",
      "2021-03-11      757   100.00    757  99.370567  100.000000                  0\n",
      "2021-04-11      598   100.00    598  99.204289  100.000000                  0\n",
      "...             ...      ...    ...        ...         ...                ...\n",
      "2021-12-17     1568    40.43   3878  38.886016   41.999502                  8\n",
      "2021-12-17     2310    59.57   3878  58.000498   61.113984                  8\n",
      "2021-12-18     1305    35.10   3718  33.568160   36.661900                  8\n",
      "2021-12-18     2413    64.90   3718  63.338100   66.431840                  8\n",
      "2021-12-19     1112    29.94   3714  28.475886   31.447475                  8\n",
      "\n",
      "[924 rows x 6 columns]\n"
     ]
    }
   ],
   "source": [
    "print(X_train)"
   ]
  },
  {
   "cell_type": "code",
   "execution_count": null,
   "metadata": {
    "id": "7v11yIZpD_Ux"
   },
   "outputs": [],
   "source": [
    "prediction = [[1],[0.14],[725],[0.007200],[0.890879771],[0]]\n",
    "prediction = np.reshape(prediction, (1,6))"
   ]
  },
  {
   "cell_type": "code",
   "execution_count": null,
   "metadata": {
    "colab": {
     "base_uri": "https://localhost:8080/"
    },
    "id": "_dvzqlA7FDJr",
    "outputId": "46cbe08b-81ae-40db-b369-54340289b527"
   },
   "outputs": [
    {
     "name": "stdout",
     "output_type": "stream",
     "text": [
      "Cases with confirmed SGTF!\n"
     ]
    },
    {
     "name": "stderr",
     "output_type": "stream",
     "text": [
      "/usr/local/lib/python3.7/dist-packages/sklearn/base.py:451: UserWarning: X does not have valid feature names, but ExtraTreesClassifier was fitted with feature names\n",
      "  \"X does not have valid feature names, but\"\n"
     ]
    }
   ],
   "source": [
    "pred = models.predict(prediction)\n",
    "\n",
    "if pred[0] == 0:\n",
    "  print(\"Cases with confirmed S-gene!\")\n",
    "elif pred[0] == 1:\n",
    "  print(\"Cases with confirmed SGTF!\")\n",
    "else:\n",
    "  print(\"Didn't find confirmed!\")"
   ]
  },
  {
   "cell_type": "code",
   "execution_count": null,
   "metadata": {
    "colab": {
     "base_uri": "https://localhost:8080/"
    },
    "id": "AhXEf600UM0J",
    "outputId": "c2202c92-0485-47fd-b8fc-c9bb23617175"
   },
   "outputs": [
    {
     "data": {
      "text/plain": [
       "100.0"
      ]
     },
     "execution_count": 360,
     "metadata": {},
     "output_type": "execute_result"
    }
   ],
   "source": [
    "from sklearn.metrics import roc_curve\n",
    "from sklearn import metrics\n",
    "fpr, tpr, thresholds = roc_curve(y_test,predIdxs)\n",
    "#AUC SCORE\n",
    "(metrics.auc(fpr, tpr))*100"
   ]
  }
 ],
 "metadata": {
  "colab": {
   "collapsed_sections": [],
   "name": "_Omicron_Variant_Gen_Prediction_with_Machine_Learning_(Artificial_Intelligence) -ML.ipynb",
   "provenance": []
  },
  "kernelspec": {
   "display_name": "Python 3 (ipykernel)",
   "language": "python",
   "name": "python3"
  },
  "language_info": {
   "codemirror_mode": {
    "name": "ipython",
    "version": 3
   },
   "file_extension": ".py",
   "mimetype": "text/x-python",
   "name": "python",
   "nbconvert_exporter": "python",
   "pygments_lexer": "ipython3",
   "version": "3.9.13"
  }
 },
 "nbformat": 4,
 "nbformat_minor": 1
}
